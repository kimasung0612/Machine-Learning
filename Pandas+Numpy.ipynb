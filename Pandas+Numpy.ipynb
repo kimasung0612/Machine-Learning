{
  "cells": [
    {
      "cell_type": "code",
      "source": [
        "pip install numpy"
      ],
      "metadata": {
        "id": "l4-yN-1-D0CG",
        "outputId": "b8240f1d-928c-4636-a9d3-fade1ea893ed",
        "colab": {
          "base_uri": "https://localhost:8080/"
        }
      },
      "execution_count": null,
      "outputs": [
        {
          "output_type": "stream",
          "name": "stdout",
          "text": [
            "Requirement already satisfied: numpy in /usr/local/lib/python3.10/dist-packages (1.25.2)\n"
          ]
        }
      ]
    },
    {
      "cell_type": "code",
      "source": [
        "import numpy as np\n",
        "\n",
        "print(np.zeros(3))\n",
        "\n",
        "print('\\n# zeros((2,2)): 요소의 값이 모두 0인 2 * 2의 배열 생성')\n",
        "arrZeros=np.zeros((2,2))\n",
        "print(arrZeros)\n",
        "\n",
        "print('\\n# ones((3,2)): 요소의 값이 모두 1인 3 * 2의 배열 생성')\n",
        "array2 = np.ones((3,2))\n",
        "print(array2)"
      ],
      "metadata": {
        "id": "0d9I_kcTEPGz",
        "outputId": "c2c8d78a-26a3-4d1c-e8ff-fb96ab4038c9",
        "colab": {
          "base_uri": "https://localhost:8080/"
        }
      },
      "execution_count": null,
      "outputs": [
        {
          "output_type": "stream",
          "name": "stdout",
          "text": [
            "[0. 0. 0.]\n",
            "\n",
            "# zeros((2,2)): 요소의 값이 모두 0인 2 * 2의 배열 생성\n",
            "[[0. 0.]\n",
            " [0. 0.]]\n",
            "\n",
            "# ones((3,2)): 요소의 값이 모두 1인 3 * 2의 배열 생성\n",
            "[[1. 1.]\n",
            " [1. 1.]\n",
            " [1. 1.]]\n"
          ]
        }
      ]
    },
    {
      "cell_type": "code",
      "source": [
        "import numpy as np\n",
        "\n",
        "a=np.array([-1, 3, 2, -6])\n",
        "b=np.array([3, 6, 1, 2])\n",
        "A=np.reshape(a, [2, 2])\n",
        "B=np.reshape(b, [2, 2])\n",
        "\n",
        "print('\\n배열 A')\n",
        "print(A)\n",
        "\n",
        "print('\\n배열 B')\n",
        "print(B)"
      ],
      "metadata": {
        "id": "7cDO8md7GBno",
        "colab": {
          "base_uri": "https://localhost:8080/"
        },
        "outputId": "c10ee6cb-25ca-45b7-dc69-9b70a62950e1"
      },
      "execution_count": null,
      "outputs": [
        {
          "output_type": "stream",
          "name": "stdout",
          "text": [
            "\n",
            "배열 A\n",
            "[[-1  3]\n",
            " [ 2 -6]]\n",
            "\n",
            "배열 B\n",
            "[[3 6]\n",
            " [1 2]]\n"
          ]
        }
      ]
    },
    {
      "cell_type": "code",
      "source": [
        "result3_1 = np.matmul(A, B)\n",
        "result3_2 = np.matmul(B, A)\n",
        "\n",
        "print('행렬 result3_1')\n",
        "print(result3_1)\n",
        "\n",
        "print('행렬 result3_2')\n",
        "print(result3_2)"
      ],
      "metadata": {
        "colab": {
          "base_uri": "https://localhost:8080/"
        },
        "id": "zMMqE3h2G_95",
        "outputId": "301722f2-64ea-43b5-d65c-0c8378bf0bce"
      },
      "execution_count": null,
      "outputs": [
        {
          "output_type": "stream",
          "name": "stdout",
          "text": [
            "행렬 result3_1\n",
            "[[0 0]\n",
            " [0 0]]\n",
            "행렬 result3_2\n",
            "[[  9 -27]\n",
            " [  3  -9]]\n"
          ]
        }
      ]
    },
    {
      "cell_type": "code",
      "source": [
        "b = np.reshape(b, [1,4])\n",
        "a = np.reshape(a, [1,4])\n",
        "b2 = np.transpose(b)\n",
        "print(b2)"
      ],
      "metadata": {
        "colab": {
          "base_uri": "https://localhost:8080/"
        },
        "id": "3cvFXM7SHuqo",
        "outputId": "ccd67c00-481c-473a-a63d-79e873f11ba7"
      },
      "execution_count": null,
      "outputs": [
        {
          "output_type": "stream",
          "name": "stdout",
          "text": [
            "[[3]\n",
            " [6]\n",
            " [1]\n",
            " [2]]\n"
          ]
        }
      ]
    },
    {
      "cell_type": "code",
      "source": [
        "result = np.matmul(a,b2)\n",
        "print(result)"
      ],
      "metadata": {
        "colab": {
          "base_uri": "https://localhost:8080/"
        },
        "id": "Wbj2hVLXH-d2",
        "outputId": "678e0dfd-a490-4f68-a215-758d0a74ff4a"
      },
      "execution_count": null,
      "outputs": [
        {
          "output_type": "stream",
          "name": "stdout",
          "text": [
            "[[5]]\n"
          ]
        }
      ]
    },
    {
      "cell_type": "code",
      "source": [
        "import numpy as np\n",
        "\n",
        "print('\\nnp.repeat 함수는 su를 rep_cnt만큼 반복한다.')\n",
        "su1 = 2\n",
        "rep_cnt = 5\n",
        "result = np.repeat(su1, rep_cnt)\n",
        "print(type(result))\n",
        "print(result)"
      ],
      "metadata": {
        "colab": {
          "base_uri": "https://localhost:8080/"
        },
        "id": "KwA8BWlsIY2e",
        "outputId": "4c8918f7-8540-4b7f-8330-b65c25969a61"
      },
      "execution_count": null,
      "outputs": [
        {
          "output_type": "stream",
          "name": "stdout",
          "text": [
            "\n",
            "np.repeat 함수는 su를 rep_cnt만큼 반복한다.\n",
            "<class 'numpy.ndarray'>\n",
            "[2 2 2 2 2]\n"
          ]
        }
      ]
    },
    {
      "cell_type": "code",
      "source": [
        "array1 = np.array([1,2])\n",
        "array2 = np.array([3,4])\n",
        "print('\\n1번 배열')\n",
        "print(array1)\n",
        "\n",
        "print('\\n2번 배열')\n",
        "print(array2)\n"
      ],
      "metadata": {
        "colab": {
          "base_uri": "https://localhost:8080/"
        },
        "id": "hZGysI-DIzV6",
        "outputId": "9cf5cbcb-35c0-43dd-dd39-f497b0d4bc0e"
      },
      "execution_count": null,
      "outputs": [
        {
          "output_type": "stream",
          "name": "stdout",
          "text": [
            "\n",
            "1번 배열\n",
            "[1 2]\n",
            "\n",
            "2번 배열\n",
            "[3 4]\n"
          ]
        }
      ]
    },
    {
      "cell_type": "code",
      "source": [
        "print('\\nnp.concatenate 함수는 배열들을 합쳐 준다.')\n",
        "result = np.concatenate((array1, array2))\n",
        "print(result)"
      ],
      "metadata": {
        "colab": {
          "base_uri": "https://localhost:8080/"
        },
        "id": "Hmxw4baCJYfn",
        "outputId": "6dcb0dbf-7bdb-49c3-e1fb-0412398a59e2"
      },
      "execution_count": null,
      "outputs": [
        {
          "output_type": "stream",
          "name": "stdout",
          "text": [
            "\n",
            "np.concatenate 함수는 배열들을 합쳐 준다.\n",
            "[1 2 3 4]\n"
          ]
        }
      ]
    },
    {
      "cell_type": "code",
      "source": [
        "su2 =3\n",
        "rep_cnt2 = 4\n",
        "print('\\n함수들의 중첩.')\n",
        "abcd = np.repeat(su1, rep_cnt)\n",
        "defg = np.repeat(su2, rep_cnt2)\n",
        "result = np.concatenate((abcd, defg))\n",
        "print(result)"
      ],
      "metadata": {
        "colab": {
          "base_uri": "https://localhost:8080/"
        },
        "id": "UODEZxB_Jvk2",
        "outputId": "3de282f2-16be-4716-dbc3-c22ea1556cbe"
      },
      "execution_count": null,
      "outputs": [
        {
          "output_type": "stream",
          "name": "stdout",
          "text": [
            "\n",
            "함수들의 중첩.\n",
            "[2 2 2 2 2 3 3 3 3]\n"
          ]
        }
      ]
    },
    {
      "cell_type": "code",
      "source": [
        "array3 = np.array([1, 2, 3, 4, 5, 6])\n",
        "print('\\nreshape 함수는 현상을 변경해준다.')\n",
        "\n",
        "print('2행 3열')\n",
        "result = np.reshape(array3, [2, 3])\n",
        "print(result)\n",
        "\n",
        "print('\\n3행 2열')\n",
        "result = np.reshape(array3, [3, 2])\n",
        "print(result)"
      ],
      "metadata": {
        "colab": {
          "base_uri": "https://localhost:8080/"
        },
        "id": "bKRxDMctKSzv",
        "outputId": "e66f2a91-4bea-4645-fb40-966dda7eada3"
      },
      "execution_count": null,
      "outputs": [
        {
          "output_type": "stream",
          "name": "stdout",
          "text": [
            "\n",
            "reshape 함수는 현상을 변경해준다.\n",
            "2행 3열\n",
            "[[1 2 3]\n",
            " [4 5 6]]\n",
            "\n",
            "3행 2열\n",
            "[[1 2]\n",
            " [3 4]\n",
            " [5 6]]\n"
          ]
        }
      ]
    },
    {
      "cell_type": "code",
      "source": [
        "array4 = np.array([[3, 6, 2], [4, 1, 5]])\n",
        "print('\\n4번 배열')\n",
        "print(array4)"
      ],
      "metadata": {
        "colab": {
          "base_uri": "https://localhost:8080/"
        },
        "id": "i_S8yBpwLOoP",
        "outputId": "b27fa04a-8471-4db8-fe11-e29a453b4114"
      },
      "execution_count": null,
      "outputs": [
        {
          "output_type": "stream",
          "name": "stdout",
          "text": [
            "\n",
            "4번 배열\n",
            "[[3 6 2]\n",
            " [4 1 5]]\n"
          ]
        }
      ]
    },
    {
      "cell_type": "code",
      "source": [
        "print('\\n전치된 배열')\n",
        "result = np.transpose(array4)\n",
        "print(result)"
      ],
      "metadata": {
        "colab": {
          "base_uri": "https://localhost:8080/"
        },
        "id": "vrSXMhGqLndW",
        "outputId": "b7c99544-d716-4676-958a-6bfba8aef60c"
      },
      "execution_count": null,
      "outputs": [
        {
          "output_type": "stream",
          "name": "stdout",
          "text": [
            "\n",
            "전치된 배열\n",
            "[[3 4]\n",
            " [6 1]\n",
            " [2 5]]\n"
          ]
        }
      ]
    },
    {
      "cell_type": "code",
      "source": [
        "import numpy as np\n",
        "\n",
        "array = np.array([1.57, 2.48, 3.93, 4.33])\n",
        "print('\\n배열 출력하기')\n",
        "print(array)\n",
        "\n",
        "print('\\nnp.ceil()함수는 소수 자리를 올림한다')\n",
        "result = np.ceil(array)\n",
        "print(result)\n",
        "\n",
        "print('\\nnp.floor()함수는 소수 자리를 버림한다')\n",
        "result = np.floor(array)\n",
        "print(result)\n",
        "\n",
        "print('\\nnp.round()함수는 소수 자리를 반올림한다')\n",
        "result = np.round(array, 1)\n",
        "print(result)\n",
        "\n",
        "print('\\n루트 씌우기')\n",
        "result = np.sqrt(array)\n",
        "print(result)\n",
        "arr = np.arange(10)\n",
        "print(arr)\n",
        "print()\n",
        "\n",
        "print('\\nexp함수 적용')\n",
        "result = np.exp(arr)\n",
        "print(result)\n",
        "\n",
        "x = [5, 4]\n",
        "y = [6, 3]\n",
        "\n",
        "print('.maximum(x, y)')\n",
        "result = np.maximum(x, y)\n",
        "print(result)\n",
        "\n",
        "print('-'*30)\n",
        "\n",
        "array1 = np.array([-1.1, 2.2, 3.3, 4.4])\n",
        "print('\\n배열 출력하기1')\n",
        "print(array1)\n",
        "\n",
        "array2 = np.array([1.1, 2.2, 3.3, 4.4])\n",
        "print('\\n배열 출력하기2')\n",
        "print(array2)\n",
        "\n",
        "print('\\n절댓값 구하기')\n",
        "result = np.abs(array1)\n",
        "print(result)\n",
        "\n",
        "print('\\n배열 요소들의 값 합치기')\n",
        "result = np.sum(array1)\n",
        "print(result)\n",
        "\n",
        "print('\\n배열 요소들의 값 비교하기')\n",
        "result = np.equal(array1, array2)\n",
        "print(result)\n",
        "\n",
        "print('\\nnp.sum과 np.equal을 동시에 사용하기')\n",
        "print('True는 1로 False는 0으로 카운트된다')\n",
        "result = np.sum(np.equal(array1, array2))\n",
        "print(result)\n",
        "\n",
        "print('\\n평균 구하기')\n",
        "result = np.mean(array2)\n",
        "print(result)\n",
        "\n",
        "arrX = np.array([[1,2],[3,4]], dtype = np.float64)\n",
        "arrY = np.array([[5,6],[7,8]], dtype = np.float64)\n",
        "\n",
        "print('\\n요소별 더하기')\n",
        "print(arrX+arrY)\n",
        "print(np.add(arrX, arrY))\n",
        "\n",
        "print('\\n요소별 빼기')\n",
        "print(arrX-arrY)\n",
        "print(np.subtract(arrX, arrY))\n",
        "\n",
        "print('\\n요소별 곱하기')\n",
        "print(arrX * arrY)\n",
        "print(np.multiply(arrX, arrY))\n",
        "\n",
        "print('\\n요소별 나누기')\n",
        "print(arrX/arrY)\n",
        "print(np.divide(arrX, arrY))\n",
        "\n",
        "print('\\n요소별 제곱근; 다음의 배열을 만듭니다')\n",
        "print(np.sqrt(arrX))"
      ],
      "metadata": {
        "colab": {
          "base_uri": "https://localhost:8080/"
        },
        "id": "DpWIrMuhMFcX",
        "outputId": "e50e5737-102a-45e5-a324-784b0218fa29"
      },
      "execution_count": null,
      "outputs": [
        {
          "output_type": "stream",
          "name": "stdout",
          "text": [
            "\n",
            "배열 출력하기\n",
            "[1.57 2.48 3.93 4.33]\n",
            "\n",
            "np.ceil()함수는 소수 자리를 올림한다\n",
            "[2. 3. 4. 5.]\n",
            "\n",
            "np.floor()함수는 소수 자리를 버림한다\n",
            "[1. 2. 3. 4.]\n",
            "\n",
            "np.round()함수는 소수 자리를 반올림한다\n",
            "[1.6 2.5 3.9 4.3]\n",
            "\n",
            "루트 씌우기\n",
            "[1.25299641 1.57480157 1.98242276 2.0808652 ]\n",
            "[0 1 2 3 4 5 6 7 8 9]\n",
            "\n",
            "\n",
            "exp함수 적용\n",
            "[1.00000000e+00 2.71828183e+00 7.38905610e+00 2.00855369e+01\n",
            " 5.45981500e+01 1.48413159e+02 4.03428793e+02 1.09663316e+03\n",
            " 2.98095799e+03 8.10308393e+03]\n",
            ".maximum(x, y)\n",
            "[6 4]\n",
            "------------------------------\n",
            "\n",
            "배열 출력하기1\n",
            "[-1.1  2.2  3.3  4.4]\n",
            "\n",
            "배열 출력하기2\n",
            "[1.1 2.2 3.3 4.4]\n",
            "\n",
            "절댓값 구하기\n",
            "[1.1 2.2 3.3 4.4]\n",
            "\n",
            "배열 요소들의 값 합치기\n",
            "8.8\n",
            "\n",
            "배열 요소들의 값 비교하기\n",
            "[False  True  True  True]\n",
            "\n",
            "np.sum과 np.equal을 동시에 사용하기\n",
            "True는 1로 False는 0으로 카운트된다\n",
            "3\n",
            "\n",
            "평균 구하기\n",
            "2.75\n",
            "\n",
            "요소별 더하기\n",
            "[[ 6.  8.]\n",
            " [10. 12.]]\n",
            "[[ 6.  8.]\n",
            " [10. 12.]]\n",
            "\n",
            "요소별 빼기\n",
            "[[-4. -4.]\n",
            " [-4. -4.]]\n",
            "[[-4. -4.]\n",
            " [-4. -4.]]\n",
            "\n",
            "요소별 곱하기\n",
            "[[ 5. 12.]\n",
            " [21. 32.]]\n",
            "[[ 5. 12.]\n",
            " [21. 32.]]\n",
            "\n",
            "요소별 나누기\n",
            "[[0.2        0.33333333]\n",
            " [0.42857143 0.5       ]]\n",
            "[[0.2        0.33333333]\n",
            " [0.42857143 0.5       ]]\n",
            "\n",
            "요소별 제곱근; 다음의 배열을 만듭니다\n",
            "[[1.         1.41421356]\n",
            " [1.73205081 2.        ]]\n"
          ]
        }
      ]
    },
    {
      "cell_type": "code",
      "source": [
        "pip install pandas"
      ],
      "metadata": {
        "colab": {
          "base_uri": "https://localhost:8080/"
        },
        "id": "isoGQW0RSQLw",
        "outputId": "d13718a0-0893-4616-a122-da7f3bb7c9e6"
      },
      "execution_count": null,
      "outputs": [
        {
          "output_type": "stream",
          "name": "stdout",
          "text": [
            "Requirement already satisfied: pandas in /usr/local/lib/python3.10/dist-packages (2.0.3)\n",
            "Requirement already satisfied: python-dateutil>=2.8.2 in /usr/local/lib/python3.10/dist-packages (from pandas) (2.8.2)\n",
            "Requirement already satisfied: pytz>=2020.1 in /usr/local/lib/python3.10/dist-packages (from pandas) (2023.4)\n",
            "Requirement already satisfied: tzdata>=2022.1 in /usr/local/lib/python3.10/dist-packages (from pandas) (2024.1)\n",
            "Requirement already satisfied: numpy>=1.21.0 in /usr/local/lib/python3.10/dist-packages (from pandas) (1.25.2)\n",
            "Requirement already satisfied: six>=1.5 in /usr/local/lib/python3.10/dist-packages (from python-dateutil>=2.8.2->pandas) (1.16.0)\n"
          ]
        }
      ]
    },
    {
      "cell_type": "code",
      "source": [
        "from pandas import Series\n",
        "import numpy as np\n",
        "\n",
        "mylist = [10,40,30]\n",
        "myindex = ['김유신', '이순신', '강감찬']\n",
        "\n",
        "print('\\n#테이스 01')\n",
        "myseries = Series(mylist)\n",
        "print(myseries)"
      ],
      "metadata": {
        "id": "7xPzsgefVBMo",
        "colab": {
          "base_uri": "https://localhost:8080/"
        },
        "outputId": "f0dde90a-fc87-40fd-f215-eeb7c9faaf5a"
      },
      "execution_count": null,
      "outputs": [
        {
          "output_type": "stream",
          "name": "stdout",
          "text": [
            "\n",
            "#테이스 01\n",
            "0    10\n",
            "1    40\n",
            "2    30\n",
            "dtype: int64\n"
          ]
        }
      ]
    },
    {
      "cell_type": "code",
      "source": [
        "print('\\n케이스 02')\n",
        "myseries = Series(data=mylist)\n",
        "print(myseries)"
      ],
      "metadata": {
        "colab": {
          "base_uri": "https://localhost:8080/"
        },
        "id": "M6Mpsye2__0G",
        "outputId": "01b3a256-a91f-47b0-c423-92ed438c816b"
      },
      "execution_count": null,
      "outputs": [
        {
          "output_type": "stream",
          "name": "stdout",
          "text": [
            "\n",
            "케이스 02\n",
            "0    10\n",
            "1    40\n",
            "2    30\n",
            "dtype: int64\n"
          ]
        }
      ]
    },
    {
      "cell_type": "code",
      "source": [
        "print('\\n#케이스 03')\n",
        "myseries = Series(data=mylist, index=myindex)\n",
        "print(myseries)"
      ],
      "metadata": {
        "colab": {
          "base_uri": "https://localhost:8080/"
        },
        "id": "l5soi_OzASwm",
        "outputId": "2291222d-d723-4b22-cdf8-56096f71b2b6"
      },
      "execution_count": null,
      "outputs": [
        {
          "output_type": "stream",
          "name": "stdout",
          "text": [
            "\n",
            "#케이스 03\n",
            "김유신    10\n",
            "이순신    40\n",
            "강감찬    30\n",
            "dtype: int64\n"
          ]
        }
      ]
    },
    {
      "cell_type": "code",
      "source": [
        "from pandas import Series\n",
        "import numpy as np\n",
        "\n",
        "print('\\n#케이스 04')\n",
        "myseries = Series(data=mylist, index=myindex, dtype=float)\n",
        "print(myseries)"
      ],
      "metadata": {
        "colab": {
          "base_uri": "https://localhost:8080/"
        },
        "id": "HIwK_BRzAoyu",
        "outputId": "2438805b-0cd6-4412-8270-db7144eb4b7b"
      },
      "execution_count": null,
      "outputs": [
        {
          "output_type": "stream",
          "name": "stdout",
          "text": [
            "\n",
            "#케이스 04\n",
            "김유신    10.0\n",
            "이순신    40.0\n",
            "강감찬    30.0\n",
            "dtype: float64\n"
          ]
        }
      ]
    },
    {
      "cell_type": "code",
      "source": [
        "from pandas import Series\n",
        "\n",
        "mylist = [10, 40, 30, 20]\n",
        "myseries = Series(data=mylist, index = ['강감찬', '이순신', '김유신', '광해군'])\n",
        "\n",
        "print('\\n# 자료형 확인')\n",
        "print(type(myseries))"
      ],
      "metadata": {
        "colab": {
          "base_uri": "https://localhost:8080/"
        },
        "id": "NgU-nEJgBFh-",
        "outputId": "0c3193e5-6e9e-406e-d383-0b29a2a2dbed"
      },
      "execution_count": null,
      "outputs": [
        {
          "output_type": "stream",
          "name": "stdout",
          "text": [
            "\n",
            "# 자료형 확인\n",
            "<class 'pandas.core.series.Series'>\n"
          ]
        }
      ]
    },
    {
      "cell_type": "code",
      "source": [
        "myseries.index.name = '점수'\n",
        "print('\\n#시리즈의 색인 이름')\n",
        "print(myseries.index.name)\n",
        "\n",
        "myseries.name = '학생들 시험'\n",
        "print('\\n#시리즈의 이름')\n",
        "print(myseries.name)"
      ],
      "metadata": {
        "colab": {
          "base_uri": "https://localhost:8080/"
        },
        "id": "01XgDBzaHY4X",
        "outputId": "f463e3ef-5e69-47a9-da27-a5e6e634cc9b"
      },
      "execution_count": null,
      "outputs": [
        {
          "output_type": "stream",
          "name": "stdout",
          "text": [
            "\n",
            "#시리즈의 색인 이름\n",
            "점수\n",
            "\n",
            "#시리즈의 이름\n",
            "학생들 시험\n"
          ]
        }
      ]
    },
    {
      "cell_type": "code",
      "source": [
        "print('#색인 확인하기')\n",
        "print(myseries.index)\n",
        "\n",
        "print('#시리즈의 값 확인')\n",
        "print(myseries.values)"
      ],
      "metadata": {
        "colab": {
          "base_uri": "https://localhost:8080/"
        },
        "id": "MydJ6gV-Ijxn",
        "outputId": "9d8c7288-f6a4-4d79-e884-34400b24c794"
      },
      "execution_count": null,
      "outputs": [
        {
          "output_type": "stream",
          "name": "stdout",
          "text": [
            "#색인 확인하기\n",
            "Index(['강감찬', '이순신', '김유신', '광해군'], dtype='object', name='점수')\n",
            "#시리즈의 값 확인\n",
            "[10 40 30 20]\n"
          ]
        }
      ]
    },
    {
      "cell_type": "code",
      "source": [
        "print('\\n#시리즈 정보 출력')\n",
        "print(myseries)"
      ],
      "metadata": {
        "colab": {
          "base_uri": "https://localhost:8080/"
        },
        "id": "ZcbPyn3vJHMv",
        "outputId": "50476458-a6ee-4c89-e21b-65ec58462328"
      },
      "execution_count": null,
      "outputs": [
        {
          "output_type": "stream",
          "name": "stdout",
          "text": [
            "\n",
            "#시리즈 정보 출력\n",
            "점수\n",
            "강감찬    10\n",
            "이순신    40\n",
            "김유신    30\n",
            "광해군    20\n",
            "Name: 학생들 시험, dtype: int64\n"
          ]
        }
      ]
    },
    {
      "cell_type": "code",
      "source": [
        "print('\\n#반복하여 출력하기')\n",
        "for idx in myseries.index:\n",
        "  print('색인 : ' + idx +', 값 : ' + str(myseries[idx]))"
      ],
      "metadata": {
        "colab": {
          "base_uri": "https://localhost:8080/"
        },
        "id": "UrZhQDUaJ9an",
        "outputId": "c752d687-a652-47cc-d2da-cc72ec27b966"
      },
      "execution_count": null,
      "outputs": [
        {
          "output_type": "stream",
          "name": "stdout",
          "text": [
            "\n",
            "#반복하여 출력하기\n",
            "색인 : 강감찬, 값 : 10\n",
            "색인 : 이순신, 값 : 40\n",
            "색인 : 김유신, 값 : 30\n",
            "색인 : 광해군, 값 : 20\n"
          ]
        }
      ]
    },
    {
      "cell_type": "code",
      "source": [
        "from pandas import Series, DataFrame\n",
        "\n",
        "myindex1 = ['강호민', '유재준', '김재명', '신동진']\n",
        "mylist1 = [30, 40, 50, 60]\n",
        "\n",
        "myindex2 = ['강호민', '유재준', '김재명', '이수진']\n",
        "mylist2 = [20, 40, 60, 70]\n",
        "\n",
        "myseries1 = Series(data=mylist1, index=myindex1)\n",
        "myseries2 = Series(data=mylist2, index=myindex2)\n",
        "\n",
        "print('\\n# 시리즈 1 데이터')\n",
        "print(myseries1)\n",
        "\n",
        "print('\\n# 시리즈 2 데이터')\n",
        "print(myseries2)"
      ],
      "metadata": {
        "colab": {
          "base_uri": "https://localhost:8080/"
        },
        "id": "U7s_ibOcOOFg",
        "outputId": "33af3237-c476-49dd-ab0c-c9d3977c4d34"
      },
      "execution_count": null,
      "outputs": [
        {
          "output_type": "stream",
          "name": "stdout",
          "text": [
            "\n",
            "# 시리즈 1 데이터\n",
            "강호민    30\n",
            "유재준    40\n",
            "김재명    50\n",
            "신동진    60\n",
            "dtype: int64\n",
            "\n",
            "# 시리즈 2 데이터\n",
            "강호민    20\n",
            "유재준    40\n",
            "김재명    60\n",
            "이수진    70\n",
            "dtype: int64\n"
          ]
        }
      ]
    },
    {
      "cell_type": "code",
      "source": [
        "print(myseries1 + 5)\n",
        "print('-' * 50)\n",
        "\n",
        "print(myseries1.add(5))\n",
        "print('-'*50)\n",
        "\n",
        "print(myseries1 - 10)\n",
        "print('-'* 50)\n",
        "\n",
        "print(myseries1 * 2)\n",
        "print('-' * 50)\n",
        "\n",
        "print(myseries1/ 3)\n",
        "print('-' * 50)\n",
        "\n",
        "print(myseries1 >= 40)\n",
        "print('-' * 50)"
      ],
      "metadata": {
        "colab": {
          "base_uri": "https://localhost:8080/"
        },
        "id": "RlzJeeqwSkcx",
        "outputId": "745f3be5-8b07-4db8-d0f0-298e9d7a40d4"
      },
      "execution_count": null,
      "outputs": [
        {
          "output_type": "stream",
          "name": "stdout",
          "text": [
            "강호민    35\n",
            "유재준    45\n",
            "김재명    55\n",
            "신동진    65\n",
            "dtype: int64\n",
            "--------------------------------------------------\n",
            "강호민    35\n",
            "유재준    45\n",
            "김재명    55\n",
            "신동진    65\n",
            "dtype: int64\n",
            "--------------------------------------------------\n",
            "강호민    20\n",
            "유재준    30\n",
            "김재명    40\n",
            "신동진    50\n",
            "dtype: int64\n",
            "--------------------------------------------------\n",
            "강호민     60\n",
            "유재준     80\n",
            "김재명    100\n",
            "신동진    120\n",
            "dtype: int64\n",
            "--------------------------------------------------\n",
            "강호민    10.000000\n",
            "유재준    13.333333\n",
            "김재명    16.666667\n",
            "신동진    20.000000\n",
            "dtype: float64\n",
            "--------------------------------------------------\n",
            "강호민    False\n",
            "유재준     True\n",
            "김재명     True\n",
            "신동진     True\n",
            "dtype: bool\n",
            "--------------------------------------------------\n"
          ]
        }
      ]
    },
    {
      "cell_type": "code",
      "source": [
        "print('\\n# 두 시리즈 더하기(한쪽에만 있는 데이터는 NaN으로 처리됨)')\n",
        "newseries = myseries1 + myseries2\n",
        "print(newseries)"
      ],
      "metadata": {
        "colab": {
          "base_uri": "https://localhost:8080/"
        },
        "id": "tdQ7ifZjXsti",
        "outputId": "9a1e71b6-d934-4408-ce68-246aa1478495"
      },
      "execution_count": null,
      "outputs": [
        {
          "output_type": "stream",
          "name": "stdout",
          "text": [
            "\n",
            "# 두 시리즈 더하기(한쪽에만 있는 데이터는 NaN으로 처리됨)\n",
            "강호민     50.0\n",
            "김재명    110.0\n",
            "신동진      NaN\n",
            "유재준     80.0\n",
            "이수진      NaN\n",
            "dtype: float64\n"
          ]
        }
      ]
    },
    {
      "cell_type": "code",
      "source": [
        "print('\\n# 두 시리즈 빼기(fill_value에 의하여 0으로 처리된 후 연산 수행됨)')\n",
        "newseries = myseries1.sub(myseries2, fill_value = 0)\n",
        "print(newseries)"
      ],
      "metadata": {
        "colab": {
          "base_uri": "https://localhost:8080/"
        },
        "id": "fNp3MEgtYRor",
        "outputId": "2c989008-d132-4334-e827-bb04a957833d"
      },
      "execution_count": null,
      "outputs": [
        {
          "output_type": "stream",
          "name": "stdout",
          "text": [
            "\n",
            "# 두 시리즈 빼기(fill_value에 의하여 0으로 처리된 후 연산 수행됨)\n",
            "강호민    10.0\n",
            "김재명   -10.0\n",
            "신동진    60.0\n",
            "유재준     0.0\n",
            "이수진   -70.0\n",
            "dtype: float64\n"
          ]
        }
      ]
    },
    {
      "cell_type": "code",
      "source": [
        "from pandas import Series\n",
        "\n",
        "print('\\n#유일 값, 값 세기, 멤버십')\n",
        "mylist = ['라일락', '코스모스', '백일홍', '코스모스', '코스모스', '들장미', '들장미', '라일락', '라일락']\n",
        "myseries = Series(mylist)\n",
        "print(myseries)"
      ],
      "metadata": {
        "colab": {
          "base_uri": "https://localhost:8080/"
        },
        "id": "82U3bW8MZvqa",
        "outputId": "52d6ed6a-2965-4084-a4d3-ef32f5e4acc6"
      },
      "execution_count": null,
      "outputs": [
        {
          "output_type": "stream",
          "name": "stdout",
          "text": [
            "\n",
            "#유일 값, 값 세기, 멤버십\n",
            "0     라일락\n",
            "1    코스모스\n",
            "2     백일홍\n",
            "3    코스모스\n",
            "4    코스모스\n",
            "5     들장미\n",
            "6     들장미\n",
            "7     라일락\n",
            "8     라일락\n",
            "dtype: object\n"
          ]
        }
      ]
    },
    {
      "cell_type": "code",
      "source": [
        "myunique = myseries.unique()\n",
        "print(myunique)"
      ],
      "metadata": {
        "colab": {
          "base_uri": "https://localhost:8080/"
        },
        "id": "KFgSGD3yayti",
        "outputId": "07fa7c00-172b-419e-beab-76f9fedc6ec0"
      },
      "execution_count": null,
      "outputs": [
        {
          "output_type": "stream",
          "name": "stdout",
          "text": [
            "['라일락' '코스모스' '백일홍' '들장미']\n"
          ]
        }
      ]
    },
    {
      "cell_type": "code",
      "source": [
        "print(myseries.value_counts())"
      ],
      "metadata": {
        "colab": {
          "base_uri": "https://localhost:8080/"
        },
        "id": "oChy9XjRcgLr",
        "outputId": "d2a9bba9-b410-4d45-dc05-410e7b6c9ae8"
      },
      "execution_count": null,
      "outputs": [
        {
          "output_type": "stream",
          "name": "stdout",
          "text": [
            "라일락     3\n",
            "코스모스    3\n",
            "들장미     2\n",
            "백일홍     1\n",
            "Name: count, dtype: int64\n"
          ]
        }
      ]
    },
    {
      "cell_type": "code",
      "source": [
        "\n",
        "mask = myseries.isin(['들장미', '라일락'])\n",
        "print(mask)\n",
        "print('-'* 30)\n",
        "\n",
        "print(myseries[mask])"
      ],
      "metadata": {
        "colab": {
          "base_uri": "https://localhost:8080/"
        },
        "id": "q7Xd0JJJds0L",
        "outputId": "b5793efa-8673-49eb-ac82-f81e07f646dc"
      },
      "execution_count": null,
      "outputs": [
        {
          "output_type": "stream",
          "name": "stdout",
          "text": [
            "0     True\n",
            "1    False\n",
            "2    False\n",
            "3    False\n",
            "4    False\n",
            "5     True\n",
            "6     True\n",
            "7     True\n",
            "8     True\n",
            "dtype: bool\n",
            "------------------------------\n",
            "0    라일락\n",
            "5    들장미\n",
            "6    들장미\n",
            "7    라일락\n",
            "8    라일락\n",
            "dtype: object\n"
          ]
        }
      ]
    },
    {
      "cell_type": "code",
      "source": [
        "import numpy as np\n",
        "from pandas import DataFrame\n",
        "import pandas as pd\n",
        "\n",
        "\n",
        "mydata=np.arange(9).reshape((3,3))\n",
        "myframe = pd.DataFrame(data=mydata, index = ['용산구', '마포구', '은평구'], columns=['김철수', '이영희', '정준수'])\n",
        "print(myframe)"
      ],
      "metadata": {
        "colab": {
          "base_uri": "https://localhost:8080/"
        },
        "id": "W1UsDkQfghrE",
        "outputId": "80252d03-ebc4-41a7-c75f-23e57cb5f3bf"
      },
      "execution_count": null,
      "outputs": [
        {
          "output_type": "stream",
          "name": "stdout",
          "text": [
            "     김철수  이영희  정준수\n",
            "용산구    0    1    2\n",
            "마포구    3    4    5\n",
            "은평구    6    7    8\n"
          ]
        }
      ]
    },
    {
      "cell_type": "code",
      "source": [
        "sdata = {'지역': ['용산구', '마포구'], '연도' : [2019,2020]}\n",
        "myframe = DataFrame(data = sdata)\n",
        "print(myframe)"
      ],
      "metadata": {
        "colab": {
          "base_uri": "https://localhost:8080/"
        },
        "id": "t0QOJoOl2MNy",
        "outputId": "58d91533-404f-4cb9-e369-49241eb592c9"
      },
      "execution_count": null,
      "outputs": [
        {
          "output_type": "stream",
          "name": "stdout",
          "text": [
            "    지역    연도\n",
            "0  용산구  2019\n",
            "1  마포구  2020\n"
          ]
        }
      ]
    },
    {
      "cell_type": "code",
      "source": [
        "sdata = {'지역': ['용산구', '용산구', '용산구', '마포구', '마포구'], '연도': [2019,2020, 2021, 2020, 2021], '실적': [20, 30, 35, 25, 45]}\n",
        "myframe = DataFrame(sdata)\n",
        "print(myframe)"
      ],
      "metadata": {
        "colab": {
          "base_uri": "https://localhost:8080/"
        },
        "id": "wU6Xtqjd33wb",
        "outputId": "9bf76092-8078-4b92-fbca-c7f278a341c8"
      },
      "execution_count": null,
      "outputs": [
        {
          "output_type": "stream",
          "name": "stdout",
          "text": [
            "    지역    연도  실적\n",
            "0  용산구  2019  20\n",
            "1  용산구  2020  30\n",
            "2  용산구  2021  35\n",
            "3  마포구  2020  25\n",
            "4  마포구  2021  45\n"
          ]
        }
      ]
    },
    {
      "cell_type": "code",
      "source": [
        "from pandas import DataFrame\n",
        "\n",
        "sdata = {\n",
        "    '도시': ['서울', '서울', '서울', '부산', '부산'],\n",
        "    '연도': [2000, 2001, 2002, 2001, 2002],\n",
        "    '실적':[150, 170, 360, 240, 290]\n",
        "}\n",
        "\n",
        "myindex = ['one','two', 'three', 'four', 'five']\n",
        "myframe = DataFrame(sdata, index=myindex)\n",
        "\n",
        "print('\\n타입 확인:', type(myframe))"
      ],
      "metadata": {
        "colab": {
          "base_uri": "https://localhost:8080/"
        },
        "id": "wQ9NoEW66eW7",
        "outputId": "1316a6af-35be-410f-e25c-262e6d623bea"
      },
      "execution_count": null,
      "outputs": [
        {
          "output_type": "stream",
          "name": "stdout",
          "text": [
            "\n",
            "타입 확인: <class 'pandas.core.frame.DataFrame'>\n"
          ]
        }
      ]
    },
    {
      "cell_type": "code",
      "source": [
        "\n",
        "myframe.columns.name = '컬럼1'\n",
        "print('\\n컬럼 정보 확인')\n",
        "print(myframe.columns)\n",
        "\n",
        "myframe.index.name = '색인1'\n",
        "print('\\n색인 정보 확인')\n",
        "print(myframe.index)"
      ],
      "metadata": {
        "colab": {
          "base_uri": "https://localhost:8080/"
        },
        "id": "veMB41Gz8S1c",
        "outputId": "78f8eae8-5276-4118-da3b-0aebca21a226"
      },
      "execution_count": null,
      "outputs": [
        {
          "output_type": "stream",
          "name": "stdout",
          "text": [
            "\n",
            "컬럼 정보 확인\n",
            "Index(['도시', '연도', '실적'], dtype='object', name='컬럼1')\n",
            "\n",
            "색인 정보 확인\n",
            "Index(['one', 'two', 'three', 'four', 'five'], dtype='object', name='색인1')\n"
          ]
        }
      ]
    },
    {
      "cell_type": "code",
      "source": [
        "print('\\n들어 있는 내용 확인')\n",
        "print(type(myframe.values))\n",
        "print(myframe.values)"
      ],
      "metadata": {
        "colab": {
          "base_uri": "https://localhost:8080/"
        },
        "id": "bvAcTz968437",
        "outputId": "83be7822-d197-482f-ae27-0c7f56a2b3f6"
      },
      "execution_count": null,
      "outputs": [
        {
          "output_type": "stream",
          "name": "stdout",
          "text": [
            "\n",
            "들어 있는 내용 확인\n",
            "<class 'numpy.ndarray'>\n",
            "[['서울' 2000 150]\n",
            " ['서울' 2001 170]\n",
            " ['서울' 2002 360]\n",
            " ['부산' 2001 240]\n",
            " ['부산' 2002 290]]\n"
          ]
        }
      ]
    },
    {
      "cell_type": "code",
      "source": [
        "print('\\n자료형 확인')\n",
        "print(myframe.dtypes)"
      ],
      "metadata": {
        "colab": {
          "base_uri": "https://localhost:8080/"
        },
        "id": "teoCa-YW90Nk",
        "outputId": "0b053589-218b-460c-fc41-6ce79d79c0e7"
      },
      "execution_count": null,
      "outputs": [
        {
          "output_type": "stream",
          "name": "stdout",
          "text": [
            "\n",
            "자료형 확인\n",
            "컬럼1\n",
            "도시    object\n",
            "연도     int64\n",
            "실적     int64\n",
            "dtype: object\n"
          ]
        }
      ]
    },
    {
      "cell_type": "code",
      "source": [
        "print('\\n내용 확인')\n",
        "print(myframe)"
      ],
      "metadata": {
        "colab": {
          "base_uri": "https://localhost:8080/"
        },
        "id": "vKWTymyY-Sab",
        "outputId": "d0db682a-ce9d-454a-e96f-0899fa56dbdf"
      },
      "execution_count": null,
      "outputs": [
        {
          "output_type": "stream",
          "name": "stdout",
          "text": [
            "\n",
            "내용 확인\n",
            "컬럼1    도시    연도   실적\n",
            "색인1                 \n",
            "one    서울  2000  150\n",
            "two    서울  2001  170\n",
            "three  서울  2002  360\n",
            "four   부산  2001  240\n",
            "five   부산  2002  290\n"
          ]
        }
      ]
    },
    {
      "cell_type": "code",
      "source": [
        "print('\\n행과 열을 전차시킵니다.')\n",
        "print(myframe.T)"
      ],
      "metadata": {
        "colab": {
          "base_uri": "https://localhost:8080/"
        },
        "id": "G3A6SjYn-YLj",
        "outputId": "dd4d919e-d585-47f5-8bb4-c4c393132f54"
      },
      "execution_count": null,
      "outputs": [
        {
          "output_type": "stream",
          "name": "stdout",
          "text": [
            "\n",
            "행과 열을 전차시킵니다.\n",
            "색인1   one   two three  four  five\n",
            "컬럼1                              \n",
            "도시     서울    서울    서울    부산    부산\n",
            "연도   2000  2001  2002  2001  2002\n",
            "실적    150   170   360   240   290\n"
          ]
        }
      ]
    },
    {
      "cell_type": "code",
      "source": [
        "print('\\ncolumns 속성 사용해보기')\n",
        "mycolumns = ['실적', '도시', '연도']\n",
        "newframe = DataFrame(sdata, columns=mycolumns)\n",
        "print(newframe)"
      ],
      "metadata": {
        "colab": {
          "base_uri": "https://localhost:8080/"
        },
        "id": "r-SbnQYS-hv0",
        "outputId": "a63242bf-3978-4100-c874-a48be704b500"
      },
      "execution_count": null,
      "outputs": [
        {
          "output_type": "stream",
          "name": "stdout",
          "text": [
            "\n",
            "columns 속성 사용해보기\n",
            "    실적  도시    연도\n",
            "0  150  서울  2000\n",
            "1  170  서울  2001\n",
            "2  360  서울  2002\n",
            "3  240  부산  2001\n",
            "4  290  부산  2002\n"
          ]
        }
      ]
    },
    {
      "cell_type": "code",
      "source": [
        "import numpy as np\n",
        "from pandas import DataFrame\n",
        "\n",
        "myindex = ['이순신', '김유신', '강감찬', '광해군', '연산군']\n",
        "mycolumns = ['서울', '부산', '광주', '목포', '경주']\n",
        "mylist = list(10*onedata for onedata in range(1,26))\n",
        "print(mylist)\n",
        "\n",
        "myframe = DataFrame(np.reshape(mylist, (5,5)), index=myindex, columns= mycolumns)"
      ],
      "metadata": {
        "colab": {
          "base_uri": "https://localhost:8080/"
        },
        "id": "0aCWpwBB--4E",
        "outputId": "44f1a633-6a9c-4e69-c331-ab7ecea868eb"
      },
      "execution_count": null,
      "outputs": [
        {
          "output_type": "stream",
          "name": "stdout",
          "text": [
            "[10, 20, 30, 40, 50, 60, 70, 80, 90, 100, 110, 120, 130, 140, 150, 160, 170, 180, 190, 200, 210, 220, 230, 240, 250]\n"
          ]
        }
      ]
    },
    {
      "cell_type": "code",
      "source": [
        "print('\\n# 1행만 시리즈로 읽어오기')\n",
        "result = myframe.iloc[1]\n",
        "print(type(result))\n",
        "print(result)"
      ],
      "metadata": {
        "colab": {
          "base_uri": "https://localhost:8080/"
        },
        "id": "BRl4XyouBM9E",
        "outputId": "48cd85a7-b03c-4e8e-e547-0622e02a6b0e"
      },
      "execution_count": null,
      "outputs": [
        {
          "output_type": "stream",
          "name": "stdout",
          "text": [
            "\n",
            "# 1행만 시리즈로 읽어오기\n",
            "<class 'pandas.core.series.Series'>\n",
            "서울     60\n",
            "부산     70\n",
            "광주     80\n",
            "목포     90\n",
            "경주    100\n",
            "Name: 김유신, dtype: int64\n"
          ]
        }
      ]
    },
    {
      "cell_type": "code",
      "source": [
        "print('\\n 몇개의 행을 읽어오기')\n",
        "result = myframe.iloc[[1,3]]\n",
        "print(type(result))\n",
        "print(result)"
      ],
      "metadata": {
        "colab": {
          "base_uri": "https://localhost:8080/"
        },
        "id": "6i0qU-iaB1kc",
        "outputId": "4b35d6a6-bdb8-4850-8d83-f6dfdf9e46bd"
      },
      "execution_count": null,
      "outputs": [
        {
          "output_type": "stream",
          "name": "stdout",
          "text": [
            "\n",
            " 몇개의 행을 읽어오기\n",
            "<class 'pandas.core.frame.DataFrame'>\n",
            "      서울   부산   광주   목포   경주\n",
            "김유신   60   70   80   90  100\n",
            "광해군  160  170  180  190  200\n"
          ]
        }
      ]
    },
    {
      "cell_type": "code",
      "source": [
        "print('# 짝수 행만 가져오기')\n",
        "result = myframe.iloc[0::2]\n",
        "print(result)"
      ],
      "metadata": {
        "colab": {
          "base_uri": "https://localhost:8080/"
        },
        "id": "NCQLjUN8CRS8",
        "outputId": "19e86a7f-6f8a-4bcb-e814-4f1a94997bb0"
      },
      "execution_count": null,
      "outputs": [
        {
          "output_type": "stream",
          "name": "stdout",
          "text": [
            "# 짝수 행만 가져오기\n",
            "      서울   부산   광주   목포   경주\n",
            "이순신   10   20   30   40   50\n",
            "강감찬  110  120  130  140  150\n",
            "연산군  210  220  230  240  250\n"
          ]
        }
      ]
    },
    {
      "cell_type": "code",
      "source": [
        "print('\\n#이순신 행만 시리즈로 읽어오기')\n",
        "result = myframe.loc['이순신']\n",
        "print(type(result))\n",
        "print(result)"
      ],
      "metadata": {
        "colab": {
          "base_uri": "https://localhost:8080/"
        },
        "id": "AjctddwcC0h8",
        "outputId": "919a690b-592b-45d2-c95d-e8304b60457f"
      },
      "execution_count": null,
      "outputs": [
        {
          "output_type": "stream",
          "name": "stdout",
          "text": [
            "\n",
            "#이순신 행만 시리즈로 읽어오기\n",
            "<class 'pandas.core.series.Series'>\n",
            "서울    10\n",
            "부산    20\n",
            "광주    30\n",
            "목포    40\n",
            "경주    50\n",
            "Name: 이순신, dtype: int64\n"
          ]
        }
      ]
    },
    {
      "cell_type": "code",
      "source": [
        "print('\\n#이순신과 강감찬 행 읽어오기')\n",
        "result = myframe.loc[['이순신', '강감찬']]\n",
        "print(result)\n",
        "\n",
        "print(myframe.index)"
      ],
      "metadata": {
        "colab": {
          "base_uri": "https://localhost:8080/"
        },
        "id": "uOTzkFWlFULU",
        "outputId": "42f0c9fe-e1a1-483f-ea2b-adfd6530b862"
      },
      "execution_count": null,
      "outputs": [
        {
          "output_type": "stream",
          "name": "stdout",
          "text": [
            "\n",
            "#이순신과 강감찬 행 읽어오기\n",
            "      서울   부산   광주   목포   경주\n",
            "이순신   10   20   30   40   50\n",
            "강감찬  110  120  130  140  150\n",
            "Index(['이순신', '김유신', '강감찬', '광해군', '연산군'], dtype='object')\n"
          ]
        }
      ]
    },
    {
      "cell_type": "code",
      "source": [
        "result = myframe.loc[['강감찬'], ['광주']]\n",
        "print(result)"
      ],
      "metadata": {
        "colab": {
          "base_uri": "https://localhost:8080/"
        },
        "id": "Id16h1tbGaLe",
        "outputId": "4b5b26ce-7993-4108-ba9d-6d59c5be7b8b"
      },
      "execution_count": null,
      "outputs": [
        {
          "output_type": "stream",
          "name": "stdout",
          "text": [
            "      광주\n",
            "강감찬  130\n"
          ]
        }
      ]
    },
    {
      "cell_type": "code",
      "source": [
        "result = myframe.loc[['연산군', '강감찬'], ['광주', '목포']]\n",
        "print(result)"
      ],
      "metadata": {
        "colab": {
          "base_uri": "https://localhost:8080/"
        },
        "id": "CI-nm5SXGojV",
        "outputId": "72cb8cf3-5cfb-4647-eea6-63ac0bfb5784"
      },
      "execution_count": null,
      "outputs": [
        {
          "output_type": "stream",
          "name": "stdout",
          "text": [
            "      광주   목포\n",
            "연산군  230  240\n",
            "강감찬  130  140\n"
          ]
        }
      ]
    },
    {
      "cell_type": "code",
      "source": [
        "result = myframe.loc['김유신':'광해군', '광주':'목포']\n",
        "print(result)"
      ],
      "metadata": {
        "colab": {
          "base_uri": "https://localhost:8080/"
        },
        "id": "Gxz6ivu-HUQt",
        "outputId": "49bdaa1e-31c7-4aae-aa7f-39bed138230d"
      },
      "execution_count": null,
      "outputs": [
        {
          "output_type": "stream",
          "name": "stdout",
          "text": [
            "      광주   목포\n",
            "김유신   80   90\n",
            "강감찬  130  140\n",
            "광해군  180  190\n"
          ]
        }
      ]
    },
    {
      "cell_type": "code",
      "source": [
        "result = myframe.loc['김유신':'광해군', ['부산']]\n",
        "print(result)"
      ],
      "metadata": {
        "colab": {
          "base_uri": "https://localhost:8080/"
        },
        "id": "wLp-GNO8H799",
        "outputId": "4196c2d8-c052-433f-beeb-dabe222c0437"
      },
      "execution_count": null,
      "outputs": [
        {
          "output_type": "stream",
          "name": "stdout",
          "text": [
            "      부산\n",
            "김유신   70\n",
            "강감찬  120\n",
            "광해군  170\n"
          ]
        }
      ]
    },
    {
      "cell_type": "code",
      "source": [
        "result = myframe.loc[[False, True, True, False, True]]\n",
        "print(result)"
      ],
      "metadata": {
        "colab": {
          "base_uri": "https://localhost:8080/"
        },
        "id": "QSNF4jfPJH3d",
        "outputId": "2395c407-04cc-49f8-9d37-ec968eac456b"
      },
      "execution_count": null,
      "outputs": [
        {
          "output_type": "stream",
          "name": "stdout",
          "text": [
            "      서울   부산   광주   목포   경주\n",
            "김유신   60   70   80   90  100\n",
            "강감찬  110  120  130  140  150\n",
            "연산군  210  220  230  240  250\n"
          ]
        }
      ]
    },
    {
      "cell_type": "code",
      "source": [
        "result = myframe.loc[myframe['부산']<= 100]\n",
        "print(result)"
      ],
      "metadata": {
        "colab": {
          "base_uri": "https://localhost:8080/"
        },
        "id": "sLoHbsnkJQrN",
        "outputId": "0a8a8b10-0c5e-4629-e705-54f0d6b8d57e"
      },
      "execution_count": null,
      "outputs": [
        {
          "output_type": "stream",
          "name": "stdout",
          "text": [
            "     서울  부산  광주  목포   경주\n",
            "이순신  10  20  30  40   50\n",
            "김유신  60  70  80  90  100\n"
          ]
        }
      ]
    },
    {
      "cell_type": "code",
      "source": [
        "result = myframe.loc[myframe['목포']==140]\n",
        "print(result)"
      ],
      "metadata": {
        "colab": {
          "base_uri": "https://localhost:8080/"
        },
        "id": "iLtJ1ZbAKIol",
        "outputId": "b1396c13-527b-4b4e-926b-fc8280323021"
      },
      "execution_count": null,
      "outputs": [
        {
          "output_type": "stream",
          "name": "stdout",
          "text": [
            "      서울   부산   광주   목포   경주\n",
            "강감찬  110  120  130  140  150\n"
          ]
        }
      ]
    },
    {
      "cell_type": "code",
      "source": [
        "cond1=myframe['부산']>=70\n",
        "cond2=myframe['목포']>= 140\n",
        "\n",
        "print(type(cond1))\n",
        "print('-'*40)"
      ],
      "metadata": {
        "colab": {
          "base_uri": "https://localhost:8080/"
        },
        "id": "dvzDyd4oLb6O",
        "outputId": "e5a78750-6ff8-4e98-d56d-59f55c1fec02"
      },
      "execution_count": null,
      "outputs": [
        {
          "output_type": "stream",
          "name": "stdout",
          "text": [
            "<class 'pandas.core.series.Series'>\n",
            "----------------------------------------\n"
          ]
        }
      ]
    },
    {
      "cell_type": "code",
      "source": [
        "print('\\n람다 함수의 사용')\n",
        "result = myframe.loc[lambda df: df['광주']>=130]\n",
        "print(result)"
      ],
      "metadata": {
        "colab": {
          "base_uri": "https://localhost:8080/"
        },
        "id": "kdDAOrZnOTze",
        "outputId": "76ec84b1-b9e7-41fc-8b22-0e982a6b6c87"
      },
      "execution_count": null,
      "outputs": [
        {
          "output_type": "stream",
          "name": "stdout",
          "text": [
            "\n",
            "람다 함수의 사용\n",
            "      서울   부산   광주   목포   경주\n",
            "강감찬  110  120  130  140  150\n",
            "광해군  160  170  180  190  200\n",
            "연산군  210  220  230  240  250\n"
          ]
        }
      ]
    },
    {
      "cell_type": "code",
      "source": [
        "print('\\n# 이순신과 강감찬의 부산 실적을 30으로 변경하기')\n",
        "myframe.loc[['이순신', '강감찬'], ['부산']]=30"
      ],
      "metadata": {
        "colab": {
          "base_uri": "https://localhost:8080/"
        },
        "id": "2dxDhRo6P9X9",
        "outputId": "c2a683de-f3e6-4513-f353-94de032af0f5"
      },
      "execution_count": null,
      "outputs": [
        {
          "output_type": "stream",
          "name": "stdout",
          "text": [
            "\n",
            "# 이순신과 강감찬의 부산 실적을 30으로 변경하기\n"
          ]
        }
      ]
    },
    {
      "cell_type": "code",
      "source": [
        "print('\\n## 김유신부터 광해군까지 경주 실적으로 80으로 변경하시오.')\n",
        "myframe.loc['김유신':'광해군', ['경주']] = 80"
      ],
      "metadata": {
        "colab": {
          "base_uri": "https://localhost:8080/"
        },
        "id": "Gc6eKQ17QQye",
        "outputId": "6480e010-1412-4d7a-dc8b-68e863480196"
      },
      "execution_count": null,
      "outputs": [
        {
          "output_type": "stream",
          "name": "stdout",
          "text": [
            "\n",
            "## 김유신부터 광해군까지 경주 실적으로 80으로 변경하시오.\n"
          ]
        }
      ]
    },
    {
      "cell_type": "code",
      "source": [
        "print('\\n# 연산군의 모든 실적을 50으로 변경하기')\n",
        "myframe.loc[['연산군'], :] = 50"
      ],
      "metadata": {
        "colab": {
          "base_uri": "https://localhost:8080/"
        },
        "id": "AtuX5_YJQuuO",
        "outputId": "b8bf58f1-d199-48eb-c12e-40286fcfed0c"
      },
      "execution_count": null,
      "outputs": [
        {
          "output_type": "stream",
          "name": "stdout",
          "text": [
            "\n",
            "# 연산군의 모든 실적을 50으로 변경하기\n"
          ]
        }
      ]
    },
    {
      "cell_type": "code",
      "source": [
        "print('\\n# 모든 사람의 광주 컬럼을 60으로 변경하기')\n",
        "myframe.loc[:, ['광주']]=60"
      ],
      "metadata": {
        "colab": {
          "base_uri": "https://localhost:8080/"
        },
        "id": "5KzJEmVvQ5dW",
        "outputId": "14563d86-77df-4e4c-ccd5-8e7d90678572"
      },
      "execution_count": null,
      "outputs": [
        {
          "output_type": "stream",
          "name": "stdout",
          "text": [
            "\n",
            "# 모든 사람의 광주 컬럼을 60으로 변경하기\n"
          ]
        }
      ]
    },
    {
      "cell_type": "code",
      "source": [
        "print('\\n# 경주 실적이 60 이하인 데이터를 모두 0으로 변경하기')\n",
        "myframe.loc[myframe['경주']<=60, ['경주', '광주']]=0"
      ],
      "metadata": {
        "colab": {
          "base_uri": "https://localhost:8080/"
        },
        "id": "FStUwYmASkhe",
        "outputId": "66863788-ba86-495b-ce82-6d2d34635ab4"
      },
      "execution_count": null,
      "outputs": [
        {
          "output_type": "stream",
          "name": "stdout",
          "text": [
            "\n",
            "# 경주 실적이 60 이하인 데이터를 모두 0으로 변경하기\n"
          ]
        }
      ]
    },
    {
      "cell_type": "code",
      "source": [
        "print(myframe)"
      ],
      "metadata": {
        "colab": {
          "base_uri": "https://localhost:8080/"
        },
        "id": "dzPN_QVhS5q2",
        "outputId": "98fe0c02-df6a-4295-f3f1-4b29650f9634"
      },
      "execution_count": null,
      "outputs": [
        {
          "output_type": "stream",
          "name": "stdout",
          "text": [
            "      서울   부산  광주   목포  경주\n",
            "이순신   10   30   0   40   0\n",
            "김유신   60   70  60   90  80\n",
            "강감찬  110   30  60  140  80\n",
            "광해군  160  170  60  190  80\n",
            "연산군   50   50   0   50   0\n"
          ]
        }
      ]
    },
    {
      "cell_type": "code",
      "source": [
        "import numpy as np\n",
        "from pandas import Series, DataFrame\n",
        "myindex = ['강호민', '유재준', '신동진']\n",
        "mylist = [30,40,50]\n",
        "\n",
        "myseries = Series(data=mylist, index=myindex)\n",
        "print('\\n시리즈 출력 결과')\n",
        "print(myseries)"
      ],
      "metadata": {
        "colab": {
          "base_uri": "https://localhost:8080/"
        },
        "id": "pOCxgAsoS8NO",
        "outputId": "3f037b98-5f37-4c94-929e-7ccf895b91fb"
      },
      "execution_count": null,
      "outputs": [
        {
          "output_type": "stream",
          "name": "stdout",
          "text": [
            "\n",
            "시리즈 출력 결과\n",
            "강호민    30\n",
            "유재준    40\n",
            "신동진    50\n",
            "dtype: int64\n"
          ]
        }
      ]
    },
    {
      "cell_type": "code",
      "source": [
        "import numpy as np\n",
        "from pandas import Series, DataFrame\n",
        "myindex = ['강호민', '유재준', '이수진']\n",
        "mycolumns = ['서울', '부산', '경주']\n",
        "mylist = list(10*onedata for onedata in range(1,10))\n",
        "\n",
        "myframe = DataFrame(np.reshape(np.array(mylist), (3,3)), index=myindex, columns = mycolumns)\n",
        "print('\\n데이터프레임 줄력 결과')\n",
        "print(myframe)"
      ],
      "metadata": {
        "colab": {
          "base_uri": "https://localhost:8080/"
        },
        "id": "rsASyDGBUWq-",
        "outputId": "e109f4bb-8697-44a3-a54d-45046001c2c0"
      },
      "execution_count": null,
      "outputs": [
        {
          "output_type": "stream",
          "name": "stdout",
          "text": [
            "\n",
            "데이터프레임 줄력 결과\n",
            "     서울  부산  경주\n",
            "강호민  10  20  30\n",
            "유재준  40  50  60\n",
            "이수진  70  80  90\n"
          ]
        }
      ]
    },
    {
      "cell_type": "code",
      "source": [
        "result = myframe.add(myseries, axis=0)\n",
        "print(result)"
      ],
      "metadata": {
        "colab": {
          "base_uri": "https://localhost:8080/"
        },
        "id": "Qy8PhEMOVHrI",
        "outputId": "935cadd7-f66a-4298-eba8-ed762c5bc686"
      },
      "execution_count": null,
      "outputs": [
        {
          "output_type": "stream",
          "name": "stdout",
          "text": [
            "       서울    부산     경주\n",
            "강호민  40.0  50.0   60.0\n",
            "신동진   NaN   NaN    NaN\n",
            "유재준  80.0  90.0  100.0\n",
            "이수진   NaN   NaN    NaN\n"
          ]
        }
      ]
    },
    {
      "cell_type": "code",
      "source": [
        "myindex2 = ['강호민', '유재준', '김병만']\n",
        "mycolumns2 = ['서울', '부산', '대구']\n",
        "mylist2 = list(5*onedata for onedata in range(1,10))\n",
        "\n",
        "myframe2 = DataFrame(np.reshape(np.array(mylist2), (3,3)), index=myindex2, columns = mycolumns2)\n",
        "print('\\n데이터프레임 출력 결과')\n",
        "print(myframe2)"
      ],
      "metadata": {
        "colab": {
          "base_uri": "https://localhost:8080/"
        },
        "id": "CATLfW0hV4H-",
        "outputId": "7b948cb3-5a14-4b90-f887-177ca126562e"
      },
      "execution_count": null,
      "outputs": [
        {
          "output_type": "stream",
          "name": "stdout",
          "text": [
            "\n",
            "데이터프레임 출력 결과\n",
            "     서울  부산  대구\n",
            "강호민   5  10  15\n",
            "유재준  20  25  30\n",
            "김병만  35  40  45\n"
          ]
        }
      ]
    },
    {
      "cell_type": "code",
      "source": [
        "print('\\nDataFrame + DataFrame')\n",
        "result = myframe.add(myframe2, fill_value=0)\n",
        "print(result)"
      ],
      "metadata": {
        "colab": {
          "base_uri": "https://localhost:8080/"
        },
        "id": "msUEoQ2_WjKf",
        "outputId": "ecb7fd31-4f90-4d1a-a803-533dec25a5e7"
      },
      "execution_count": null,
      "outputs": [
        {
          "output_type": "stream",
          "name": "stdout",
          "text": [
            "\n",
            "DataFrame + DataFrame\n",
            "       경주    대구    부산    서울\n",
            "강호민  30.0  15.0  30.0  15.0\n",
            "김병만   NaN  45.0  40.0  35.0\n",
            "유재준  60.0  30.0  75.0  60.0\n",
            "이수진  90.0   NaN  80.0  70.0\n"
          ]
        }
      ]
    },
    {
      "cell_type": "code",
      "source": [
        "import random\n",
        "import pandas as pd\n",
        "\n",
        "result = []\n",
        "myColumns =('번호', '이름', '나이')\n",
        "myencoding ='utf-8'\n",
        "\n",
        "for idx in range(1,3):\n",
        "  sublist = []\n",
        "  sublist.append(100*idx)\n",
        "  sublist.append('김철수'+str(idx))\n",
        "  sublist.append(random.randint(1,10))\n",
        "  result.append(sublist)"
      ],
      "metadata": {
        "id": "OC1nMEvda8JP"
      },
      "execution_count": null,
      "outputs": []
    },
    {
      "cell_type": "code",
      "source": [
        "\n",
        "myframe = pd.DataFrame(result, columns = myColumns)\n",
        "\n",
        "filename = 'csv_01_01.csv'\n",
        "myframe.to_csv(filename, encoding= myencoding, mode='w', index=True)"
      ],
      "metadata": {
        "id": "Ksk3NQM8dXgf"
      },
      "execution_count": null,
      "outputs": []
    },
    {
      "cell_type": "code",
      "source": [
        "filenaem = 'csv_01_02.csv'\n",
        "myframe.to_csv(filename, encoding= myencoding, mode='w', index=False)"
      ],
      "metadata": {
        "id": "8KHMoY7GBPRt"
      },
      "execution_count": null,
      "outputs": []
    },
    {
      "cell_type": "code",
      "source": [
        "filename = 'csv_01_03.csv'\n",
        "myframe.to_csv(filename,encoding = myencoding, mode='w', index=False, header=False)"
      ],
      "metadata": {
        "id": "doanCpz7Bod9"
      },
      "execution_count": null,
      "outputs": []
    },
    {
      "cell_type": "code",
      "source": [
        "filename = 'csv_01_04.csv'\n",
        "myframe.to_csv(filename, encoding= myencoding, mode='w', index=False, sep='%')"
      ],
      "metadata": {
        "id": "7FnM3AJtB4W1"
      },
      "execution_count": null,
      "outputs": []
    },
    {
      "cell_type": "code",
      "source": [
        "import numpy as np\n",
        "import pandas as pd\n",
        "\n",
        "from pandas import DataFrame, Series\n",
        "\n",
        "print('\\n# 시리즈의 누락된 데이터 처리하기')\n",
        "print('# 원본 시리즈')\n",
        "myseries = Series(['강감찬', '이순신', np.nan, '광해군'])\n",
        "print(myseries)"
      ],
      "metadata": {
        "colab": {
          "base_uri": "https://localhost:8080/"
        },
        "id": "IO-XamEYCFbl",
        "outputId": "88b58970-0720-475c-859c-39a74aa37eb2"
      },
      "execution_count": null,
      "outputs": [
        {
          "output_type": "stream",
          "name": "stdout",
          "text": [
            "\n",
            "# 시리즈의 누락된 데이터 처리하기\n",
            "# 원본 시리즈\n",
            "0    강감찬\n",
            "1    이순신\n",
            "2    NaN\n",
            "3    광해군\n",
            "dtype: object\n"
          ]
        }
      ]
    },
    {
      "cell_type": "code",
      "source": [
        "print('\\n# isnull()함수는 값이 NaN이면 True를 반환합니다')\n",
        "print('# 파이썬의 None도 NaN으로 취급됩니다')\n",
        "print(myseries.isnull())"
      ],
      "metadata": {
        "colab": {
          "base_uri": "https://localhost:8080/"
        },
        "id": "u0FHHEWoD6dN",
        "outputId": "95dade4c-05b6-473b-c0fe-7eb21c818764"
      },
      "execution_count": null,
      "outputs": [
        {
          "output_type": "stream",
          "name": "stdout",
          "text": [
            "\n",
            "# isnull()함수는 값이 NaN이면 True를 반환합니다\n",
            "# 파이썬의 None도 NaN으로 취급됩니다\n",
            "0    False\n",
            "1    False\n",
            "2     True\n",
            "3    False\n",
            "dtype: bool\n"
          ]
        }
      ]
    },
    {
      "cell_type": "code",
      "source": [
        "print('\\n# notnull()인자를 이용하여 참인 항목들만 출력합니다')\n",
        "print(myseries[myseries.notnull()])"
      ],
      "metadata": {
        "colab": {
          "base_uri": "https://localhost:8080/"
        },
        "id": "jUYHDJkLESHc",
        "outputId": "f0ce7be8-183d-4444-86d5-08254cd1b692"
      },
      "execution_count": null,
      "outputs": [
        {
          "output_type": "stream",
          "name": "stdout",
          "text": [
            "\n",
            "# notnull()인자를 이용하여 참인 항목들만 출력합니다\n",
            "0    강감찬\n",
            "1    이순신\n",
            "3    광해군\n",
            "dtype: object\n"
          ]
        }
      ]
    },
    {
      "cell_type": "code",
      "source": [
        "print('\\n# dropna() 함수는 누락된 데이터가 있는 행과 열을 제외시킨다')\n",
        "print(myseries.dropna())"
      ],
      "metadata": {
        "colab": {
          "base_uri": "https://localhost:8080/"
        },
        "id": "_Rrj09g3EmjF",
        "outputId": "815af501-e439-488e-bb08-da52daf9be78"
      },
      "execution_count": null,
      "outputs": [
        {
          "output_type": "stream",
          "name": "stdout",
          "text": [
            "\n",
            "# dropna() 함수는 누락된 데이터가 있는 행과 열을 제외시킨다\n",
            "0    강감찬\n",
            "1    이순신\n",
            "3    광해군\n",
            "dtype: object\n"
          ]
        }
      ]
    },
    {
      "cell_type": "code",
      "source": [
        "import numpy as np\n",
        "from pandas import DataFrame\n",
        "\n",
        "mydata=[[10.0, np.nan, 20.0], [20.0, 30.0, 40.0], [np.nan, np.nan, np.nan], [40.0, 50.0, 30.0]]\n",
        "myindex=['이순신', '김유신', '윤봉길', '계백']\n",
        "mycolumn=['국어', '영어', '수학']\n",
        "myframe=DataFrame(data=mydata, index=myindex, columns=mycolumn)\n",
        "print('\\n# 성적 데이터프레임 출력')\n",
        "print(myframe)"
      ],
      "metadata": {
        "colab": {
          "base_uri": "https://localhost:8080/"
        },
        "id": "4OCTRSvmFd5V",
        "outputId": "a9745d26-e30e-4f4c-86e1-819f935f01bc"
      },
      "execution_count": null,
      "outputs": [
        {
          "output_type": "stream",
          "name": "stdout",
          "text": [
            "\n",
            "# 성적 데이터프레임 출력\n",
            "       국어    영어    수학\n",
            "이순신  10.0   NaN  20.0\n",
            "김유신  20.0  30.0  40.0\n",
            "윤봉길   NaN   NaN   NaN\n",
            "계백   40.0  50.0  30.0\n"
          ]
        }
      ]
    },
    {
      "cell_type": "code",
      "source": [
        "print('\\n# 집계 함수는 기본값으로 누락된 데이터(NaN)를 배제하고 연산합니다')\n",
        "print('\\n# sum 함수 사용시 (axis=0)은 열 방향으로 함산합니다')\n",
        "print(myframe.sum(axis=0))"
      ],
      "metadata": {
        "colab": {
          "base_uri": "https://localhost:8080/"
        },
        "id": "UqYQt-VHIlFG",
        "outputId": "81a447cc-6d44-4244-b43b-e000fe8d8fa1"
      },
      "execution_count": null,
      "outputs": [
        {
          "output_type": "stream",
          "name": "stdout",
          "text": [
            "\n",
            "# 집계 함수는 기본값으로 누락된 데이터(NaN)를 배제하고 연산합니다\n",
            "\n",
            "# sum 함수 사용시 (axis=0)은 열 방향으로 함산합니다\n",
            "국어    70.0\n",
            "영어    80.0\n",
            "수학    90.0\n",
            "dtype: float64\n"
          ]
        }
      ]
    },
    {
      "cell_type": "code",
      "source": [
        "print('\\n# sum 함수 사용 시 (axis =1)은 행 방향으로 합산합니다')\n",
        "print(myframe.sum(axis=1))"
      ],
      "metadata": {
        "colab": {
          "base_uri": "https://localhost:8080/"
        },
        "id": "frZE-cZHI7wN",
        "outputId": "3fbc6e1c-b02a-47b8-f255-e0a160b663b3"
      },
      "execution_count": null,
      "outputs": [
        {
          "output_type": "stream",
          "name": "stdout",
          "text": [
            "\n",
            "# sum 함수 사용 시 (axis =1)은 행 방향으로 합산합니다\n",
            "이순신     30.0\n",
            "김유신     90.0\n",
            "윤봉길      0.0\n",
            "계백     120.0\n",
            "dtype: float64\n"
          ]
        }
      ]
    },
    {
      "cell_type": "code",
      "source": [
        "print('\\n# mean, axis=1, skipna=False 옵션 사용하기')\n",
        "print(myframe.mean(axis=1, skipna=False))"
      ],
      "metadata": {
        "colab": {
          "base_uri": "https://localhost:8080/"
        },
        "id": "pcW8wB6gJrYV",
        "outputId": "9cd78c10-1f36-4531-c3f1-683129ae07f8"
      },
      "execution_count": null,
      "outputs": [
        {
          "output_type": "stream",
          "name": "stdout",
          "text": [
            "\n",
            "# mean, axis=1, skipna=False 옵션 사용하기\n",
            "이순신     NaN\n",
            "김유신    30.0\n",
            "윤봉길     NaN\n",
            "계백     40.0\n",
            "dtype: float64\n"
          ]
        }
      ]
    },
    {
      "cell_type": "code",
      "source": [
        "print('|n# mean, axis=1, skipna=True 옵션 사용하기')\n",
        "print(myframe.mean(axis=1, skipna=True))"
      ],
      "metadata": {
        "colab": {
          "base_uri": "https://localhost:8080/"
        },
        "id": "Nt2LuKYcKDe9",
        "outputId": "814caf61-3a80-4a3c-c3ac-2ea7b1b8542d"
      },
      "execution_count": null,
      "outputs": [
        {
          "output_type": "stream",
          "name": "stdout",
          "text": [
            "|n# mean, axis=1, skipna=True 옵션 사용하기\n",
            "이순신    15.0\n",
            "김유신    30.0\n",
            "윤봉길     NaN\n",
            "계백     40.0\n",
            "dtype: float64\n"
          ]
        }
      ]
    },
    {
      "cell_type": "code",
      "source": [
        "print('\\n# idxmax() 메소드 : 최댓값을 가지고 있는 색인을 반환합니다.')\n",
        "print(myframe.idxmax())"
      ],
      "metadata": {
        "colab": {
          "base_uri": "https://localhost:8080/"
        },
        "id": "KDkBMjjXKalF",
        "outputId": "bc25c09c-1a19-4ac5-c29e-9a1d911a4f1a"
      },
      "execution_count": null,
      "outputs": [
        {
          "output_type": "stream",
          "name": "stdout",
          "text": [
            "\n",
            "# idxmax() 메소드 : 최댓값을 가지고 있는 색인을 반환합니다.\n",
            "국어     계백\n",
            "영어     계백\n",
            "수학    김유신\n",
            "dtype: object\n"
          ]
        }
      ]
    },
    {
      "cell_type": "code",
      "source": [
        "print('\\n# 원본 데이터프레임')\n",
        "print(myframe)"
      ],
      "metadata": {
        "colab": {
          "base_uri": "https://localhost:8080/"
        },
        "id": "XKFjU4WlLRs2",
        "outputId": "b3d4f748-dfa0-4159-82c1-c7b4209839d2"
      },
      "execution_count": null,
      "outputs": [
        {
          "output_type": "stream",
          "name": "stdout",
          "text": [
            "\n",
            "# 원본 데이터프레임\n",
            "       국어    영어    수학\n",
            "이순신  10.0   NaN  20.0\n",
            "김유신  20.0  30.0  40.0\n",
            "윤봉길   NaN   NaN   NaN\n",
            "계백   40.0  50.0  30.0\n"
          ]
        }
      ]
    },
    {
      "cell_type": "code",
      "source": [
        "print('\\n# 누적 합 메소드 : 누적 합 구하기(axis=0)')\n",
        "print(myframe.cumsum(axis=0))"
      ],
      "metadata": {
        "colab": {
          "base_uri": "https://localhost:8080/"
        },
        "id": "mJ10R764N7Oe",
        "outputId": "5d2a6973-d9b5-4223-810d-3f6650689753"
      },
      "execution_count": null,
      "outputs": [
        {
          "output_type": "stream",
          "name": "stdout",
          "text": [
            "\n",
            "# 누적 합 메소드 : 누적 합 구하기(axis=0)\n",
            "       국어    영어    수학\n",
            "이순신  10.0   NaN  20.0\n",
            "김유신  30.0  30.0  60.0\n",
            "윤봉길   NaN   NaN   NaN\n",
            "계백   70.0  80.0  90.0\n"
          ]
        }
      ]
    },
    {
      "cell_type": "code",
      "source": [
        "print('\\n# 누적 합 메소드 : 누적 합 구하기(axis=1)')\n",
        "print(myframe.cumsum(axis=1))"
      ],
      "metadata": {
        "colab": {
          "base_uri": "https://localhost:8080/"
        },
        "id": "nVlvAvdVORh-",
        "outputId": "514bd16e-bc6f-4d9f-eb28-ea37219d78db"
      },
      "execution_count": null,
      "outputs": [
        {
          "output_type": "stream",
          "name": "stdout",
          "text": [
            "\n",
            "# 누적 합 메소드 : 누적 합 구하기(axis=1)\n",
            "       국어    영어     수학\n",
            "이순신  10.0   NaN   30.0\n",
            "김유신  20.0  50.0   90.0\n",
            "윤봉길   NaN   NaN    NaN\n",
            "계백   40.0  90.0  120.0\n"
          ]
        }
      ]
    },
    {
      "cell_type": "code",
      "source": [
        "print('\\n# 평균 구하기')\n",
        "print(myframe.mean())"
      ],
      "metadata": {
        "colab": {
          "base_uri": "https://localhost:8080/"
        },
        "id": "qFUu6CyROY8m",
        "outputId": "48ab07d8-5e9b-4aac-cb26-de577b02c4f7"
      },
      "execution_count": null,
      "outputs": [
        {
          "output_type": "stream",
          "name": "stdout",
          "text": [
            "\n",
            "# 평균 구하기\n",
            "국어    23.333333\n",
            "영어    40.000000\n",
            "수학    30.000000\n",
            "dtype: float64\n"
          ]
        }
      ]
    },
    {
      "cell_type": "code",
      "source": [
        "myframe.loc[myframe['국어'].isnull(), '국어']=myframe['국어'].mean()\n",
        "myframe.loc[myframe['국어'].isnull(), '영어']=myframe['영어'].mean()\n",
        "myframe.loc[myframe['국어'].isnull(), '수학']=myframe['수학'].mean()"
      ],
      "metadata": {
        "id": "SiCUaFPxOgJG"
      },
      "execution_count": null,
      "outputs": []
    },
    {
      "cell_type": "code",
      "source": [
        "print('\\n# describe()메소드는 시리즈에도 사용 가능합니다')\n",
        "print('\\n# descibe() 메소드 : 1번에 통계 결과를 여러개 만들어 낼때 사용합니다')\n",
        "\n",
        "print(myframe.describe())"
      ],
      "metadata": {
        "colab": {
          "base_uri": "https://localhost:8080/"
        },
        "id": "rgxUEHvRPln3",
        "outputId": "b839a677-2d32-46be-93f7-035c0a9e2fce"
      },
      "execution_count": null,
      "outputs": [
        {
          "output_type": "stream",
          "name": "stdout",
          "text": [
            "\n",
            "# describe()메소드는 시리즈에도 사용 가능합니다\n",
            "\n",
            "# descibe() 메소드 : 1번에 통계 결과를 여러개 만들어 낼때 사용합니다\n",
            "              국어         영어    수학\n",
            "count   4.000000   2.000000   3.0\n",
            "mean   23.333333  40.000000  30.0\n",
            "std    12.472191  14.142136  10.0\n",
            "min    10.000000  30.000000  20.0\n",
            "25%    17.500000  35.000000  25.0\n",
            "50%    21.666667  40.000000  30.0\n",
            "75%    27.500000  45.000000  35.0\n",
            "max    40.000000  50.000000  40.0\n"
          ]
        }
      ]
    },
    {
      "cell_type": "code",
      "source": [
        "\n",
        "print(myframe)"
      ],
      "metadata": {
        "colab": {
          "base_uri": "https://localhost:8080/"
        },
        "id": "_3Au-d1mRILG",
        "outputId": "a593341a-0245-4c18-9d6a-6d925271936f"
      },
      "execution_count": null,
      "outputs": [
        {
          "output_type": "stream",
          "name": "stdout",
          "text": [
            "            국어    영어    수학\n",
            "이순신  10.000000   NaN  20.0\n",
            "김유신  20.000000  30.0  40.0\n",
            "윤봉길  23.333333   NaN   NaN\n",
            "계백   40.000000  50.0  30.0\n"
          ]
        }
      ]
    },
    {
      "cell_type": "code",
      "source": [
        "pip install matplotlib"
      ],
      "metadata": {
        "colab": {
          "base_uri": "https://localhost:8080/"
        },
        "id": "L_ROE4VlRi2m",
        "outputId": "9aa7732d-9b14-481f-ada1-9f89e2d82f21"
      },
      "execution_count": null,
      "outputs": [
        {
          "output_type": "stream",
          "name": "stdout",
          "text": [
            "Requirement already satisfied: matplotlib in /usr/local/lib/python3.10/dist-packages (3.7.1)\n",
            "Requirement already satisfied: contourpy>=1.0.1 in /usr/local/lib/python3.10/dist-packages (from matplotlib) (1.2.1)\n",
            "Requirement already satisfied: cycler>=0.10 in /usr/local/lib/python3.10/dist-packages (from matplotlib) (0.12.1)\n",
            "Requirement already satisfied: fonttools>=4.22.0 in /usr/local/lib/python3.10/dist-packages (from matplotlib) (4.51.0)\n",
            "Requirement already satisfied: kiwisolver>=1.0.1 in /usr/local/lib/python3.10/dist-packages (from matplotlib) (1.4.5)\n",
            "Requirement already satisfied: numpy>=1.20 in /usr/local/lib/python3.10/dist-packages (from matplotlib) (1.25.2)\n",
            "Requirement already satisfied: packaging>=20.0 in /usr/local/lib/python3.10/dist-packages (from matplotlib) (24.0)\n",
            "Requirement already satisfied: pillow>=6.2.0 in /usr/local/lib/python3.10/dist-packages (from matplotlib) (9.4.0)\n",
            "Requirement already satisfied: pyparsing>=2.3.1 in /usr/local/lib/python3.10/dist-packages (from matplotlib) (3.1.2)\n",
            "Requirement already satisfied: python-dateutil>=2.7 in /usr/local/lib/python3.10/dist-packages (from matplotlib) (2.8.2)\n",
            "Requirement already satisfied: six>=1.5 in /usr/local/lib/python3.10/dist-packages (from python-dateutil>=2.7->matplotlib) (1.16.0)\n"
          ]
        }
      ]
    },
    {
      "cell_type": "code",
      "source": [
        "import matplotlib.pyplot as plt\n",
        "plt.rc('font', family='Malgun Gpthic')"
      ],
      "metadata": {
        "id": "VE21yUz5S4UX"
      },
      "execution_count": null,
      "outputs": []
    },
    {
      "cell_type": "code",
      "source": [
        "from pandas import Series\n",
        "import matplotlib.pyplot as plt\n",
        "\n",
        "plt.rcParams['font.family']='Malgun Gothic'\n",
        "\n",
        "mylist = [30, 20, 40, 30, 60, 50]\n",
        "myindex = ['강감찬', '김유신', '이순신', '안익태', '윤동주', '홍길동']\n",
        "\n",
        "print(myindex)\n",
        "print(mylist)"
      ],
      "metadata": {
        "colab": {
          "base_uri": "https://localhost:8080/"
        },
        "id": "Em0kwBj6Uk-v",
        "outputId": "7c95da0d-ca70-484f-9c78-bf6b02c93c57"
      },
      "execution_count": null,
      "outputs": [
        {
          "output_type": "stream",
          "name": "stdout",
          "text": [
            "['강감찬', '김유신', '이순신', '안익태', '윤동주', '홍길동']\n",
            "[30, 20, 40, 30, 60, 50]\n"
          ]
        }
      ]
    },
    {
      "cell_type": "code",
      "source": [
        "myseries = Series(data=mylist, index=myindex)\n",
        "myylim = [0, myseries.max() + 10]\n",
        "myseries.plot(title='시험 점수', kind='line', ylim=myylim, grid=True, rot=10, use_index=True)"
      ],
      "metadata": {
        "colab": {
          "base_uri": "https://localhost:8080/",
          "height": 1000
        },
        "id": "BMTSeykXVavO",
        "outputId": "a0bc8b0e-78a2-4349-f6df-37485ab6d804"
      },
      "execution_count": null,
      "outputs": [
        {
          "output_type": "execute_result",
          "data": {
            "text/plain": [
              "<Axes: title={'center': '시험 점수'}>"
            ]
          },
          "metadata": {},
          "execution_count": 94
        },
        {
          "output_type": "stream",
          "name": "stderr",
          "text": [
            "WARNING:matplotlib.font_manager:findfont: Font family 'Malgun Gothic' not found.\n",
            "WARNING:matplotlib.font_manager:findfont: Font family 'Malgun Gothic' not found.\n",
            "WARNING:matplotlib.font_manager:findfont: Font family 'Malgun Gothic' not found.\n",
            "WARNING:matplotlib.font_manager:findfont: Font family 'Malgun Gothic' not found.\n",
            "WARNING:matplotlib.font_manager:findfont: Font family 'Malgun Gothic' not found.\n",
            "WARNING:matplotlib.font_manager:findfont: Font family 'Malgun Gothic' not found.\n",
            "WARNING:matplotlib.font_manager:findfont: Font family 'Malgun Gothic' not found.\n",
            "WARNING:matplotlib.font_manager:findfont: Font family 'Malgun Gothic' not found.\n",
            "WARNING:matplotlib.font_manager:findfont: Font family 'Malgun Gothic' not found.\n",
            "WARNING:matplotlib.font_manager:findfont: Font family 'Malgun Gothic' not found.\n",
            "WARNING:matplotlib.font_manager:findfont: Font family 'Malgun Gothic' not found.\n",
            "/usr/local/lib/python3.10/dist-packages/IPython/core/events.py:89: UserWarning: Glyph 49884 (\\N{HANGUL SYLLABLE SI}) missing from current font.\n",
            "  func(*args, **kwargs)\n",
            "/usr/local/lib/python3.10/dist-packages/IPython/core/events.py:89: UserWarning: Glyph 54744 (\\N{HANGUL SYLLABLE HEOM}) missing from current font.\n",
            "  func(*args, **kwargs)\n",
            "/usr/local/lib/python3.10/dist-packages/IPython/core/events.py:89: UserWarning: Glyph 51216 (\\N{HANGUL SYLLABLE JEOM}) missing from current font.\n",
            "  func(*args, **kwargs)\n",
            "/usr/local/lib/python3.10/dist-packages/IPython/core/events.py:89: UserWarning: Glyph 49688 (\\N{HANGUL SYLLABLE SU}) missing from current font.\n",
            "  func(*args, **kwargs)\n",
            "WARNING:matplotlib.font_manager:findfont: Font family 'Malgun Gothic' not found.\n",
            "/usr/local/lib/python3.10/dist-packages/IPython/core/events.py:89: UserWarning: Glyph 44053 (\\N{HANGUL SYLLABLE GANG}) missing from current font.\n",
            "  func(*args, **kwargs)\n",
            "/usr/local/lib/python3.10/dist-packages/IPython/core/events.py:89: UserWarning: Glyph 44048 (\\N{HANGUL SYLLABLE GAM}) missing from current font.\n",
            "  func(*args, **kwargs)\n",
            "/usr/local/lib/python3.10/dist-packages/IPython/core/events.py:89: UserWarning: Glyph 52268 (\\N{HANGUL SYLLABLE CAN}) missing from current font.\n",
            "  func(*args, **kwargs)\n",
            "WARNING:matplotlib.font_manager:findfont: Font family 'Malgun Gothic' not found.\n",
            "/usr/local/lib/python3.10/dist-packages/IPython/core/events.py:89: UserWarning: Glyph 44608 (\\N{HANGUL SYLLABLE GIM}) missing from current font.\n",
            "  func(*args, **kwargs)\n",
            "/usr/local/lib/python3.10/dist-packages/IPython/core/events.py:89: UserWarning: Glyph 50976 (\\N{HANGUL SYLLABLE YU}) missing from current font.\n",
            "  func(*args, **kwargs)\n",
            "/usr/local/lib/python3.10/dist-packages/IPython/core/events.py:89: UserWarning: Glyph 49888 (\\N{HANGUL SYLLABLE SIN}) missing from current font.\n",
            "  func(*args, **kwargs)\n",
            "WARNING:matplotlib.font_manager:findfont: Font family 'Malgun Gothic' not found.\n",
            "/usr/local/lib/python3.10/dist-packages/IPython/core/events.py:89: UserWarning: Glyph 51060 (\\N{HANGUL SYLLABLE I}) missing from current font.\n",
            "  func(*args, **kwargs)\n",
            "/usr/local/lib/python3.10/dist-packages/IPython/core/events.py:89: UserWarning: Glyph 49692 (\\N{HANGUL SYLLABLE SUN}) missing from current font.\n",
            "  func(*args, **kwargs)\n",
            "WARNING:matplotlib.font_manager:findfont: Font family 'Malgun Gothic' not found.\n",
            "/usr/local/lib/python3.10/dist-packages/IPython/core/events.py:89: UserWarning: Glyph 50504 (\\N{HANGUL SYLLABLE AN}) missing from current font.\n",
            "  func(*args, **kwargs)\n",
            "/usr/local/lib/python3.10/dist-packages/IPython/core/events.py:89: UserWarning: Glyph 51061 (\\N{HANGUL SYLLABLE IG}) missing from current font.\n",
            "  func(*args, **kwargs)\n",
            "/usr/local/lib/python3.10/dist-packages/IPython/core/events.py:89: UserWarning: Glyph 53468 (\\N{HANGUL SYLLABLE TAE}) missing from current font.\n",
            "  func(*args, **kwargs)\n",
            "WARNING:matplotlib.font_manager:findfont: Font family 'Malgun Gothic' not found.\n",
            "/usr/local/lib/python3.10/dist-packages/IPython/core/events.py:89: UserWarning: Glyph 50980 (\\N{HANGUL SYLLABLE YUN}) missing from current font.\n",
            "  func(*args, **kwargs)\n",
            "/usr/local/lib/python3.10/dist-packages/IPython/core/events.py:89: UserWarning: Glyph 46041 (\\N{HANGUL SYLLABLE DONG}) missing from current font.\n",
            "  func(*args, **kwargs)\n",
            "/usr/local/lib/python3.10/dist-packages/IPython/core/events.py:89: UserWarning: Glyph 51452 (\\N{HANGUL SYLLABLE JU}) missing from current font.\n",
            "  func(*args, **kwargs)\n",
            "WARNING:matplotlib.font_manager:findfont: Font family 'Malgun Gothic' not found.\n",
            "/usr/local/lib/python3.10/dist-packages/IPython/core/events.py:89: UserWarning: Glyph 54861 (\\N{HANGUL SYLLABLE HONG}) missing from current font.\n",
            "  func(*args, **kwargs)\n",
            "/usr/local/lib/python3.10/dist-packages/IPython/core/events.py:89: UserWarning: Glyph 44600 (\\N{HANGUL SYLLABLE GIL}) missing from current font.\n",
            "  func(*args, **kwargs)\n",
            "WARNING:matplotlib.font_manager:findfont: Font family 'Malgun Gothic' not found.\n",
            "WARNING:matplotlib.font_manager:findfont: Font family 'Malgun Gothic' not found.\n",
            "WARNING:matplotlib.font_manager:findfont: Font family 'Malgun Gothic' not found.\n",
            "WARNING:matplotlib.font_manager:findfont: Font family 'Malgun Gothic' not found.\n",
            "WARNING:matplotlib.font_manager:findfont: Font family 'Malgun Gothic' not found.\n",
            "WARNING:matplotlib.font_manager:findfont: Font family 'Malgun Gothic' not found.\n",
            "WARNING:matplotlib.font_manager:findfont: Font family 'Malgun Gothic' not found.\n",
            "WARNING:matplotlib.font_manager:findfont: Font family 'Malgun Gothic' not found.\n",
            "WARNING:matplotlib.font_manager:findfont: Font family 'Malgun Gothic' not found.\n",
            "WARNING:matplotlib.font_manager:findfont: Font family 'Malgun Gothic' not found.\n",
            "WARNING:matplotlib.font_manager:findfont: Font family 'Malgun Gothic' not found.\n",
            "WARNING:matplotlib.font_manager:findfont: Font family 'Malgun Gothic' not found.\n",
            "WARNING:matplotlib.font_manager:findfont: Font family 'Malgun Gothic' not found.\n",
            "WARNING:matplotlib.font_manager:findfont: Font family 'Malgun Gothic' not found.\n",
            "WARNING:matplotlib.font_manager:findfont: Font family 'Malgun Gothic' not found.\n",
            "WARNING:matplotlib.font_manager:findfont: Font family 'Malgun Gothic' not found.\n",
            "WARNING:matplotlib.font_manager:findfont: Font family 'Malgun Gothic' not found.\n",
            "WARNING:matplotlib.font_manager:findfont: Font family 'Malgun Gothic' not found.\n",
            "WARNING:matplotlib.font_manager:findfont: Font family 'Malgun Gothic' not found.\n",
            "WARNING:matplotlib.font_manager:findfont: Font family 'Malgun Gothic' not found.\n",
            "WARNING:matplotlib.font_manager:findfont: Font family 'Malgun Gothic' not found.\n",
            "WARNING:matplotlib.font_manager:findfont: Font family 'Malgun Gothic' not found.\n",
            "WARNING:matplotlib.font_manager:findfont: Font family 'Malgun Gothic' not found.\n",
            "WARNING:matplotlib.font_manager:findfont: Font family 'Malgun Gothic' not found.\n",
            "WARNING:matplotlib.font_manager:findfont: Font family 'Malgun Gothic' not found.\n",
            "WARNING:matplotlib.font_manager:findfont: Font family 'Malgun Gothic' not found.\n",
            "/usr/local/lib/python3.10/dist-packages/IPython/core/pylabtools.py:151: UserWarning: Glyph 49884 (\\N{HANGUL SYLLABLE SI}) missing from current font.\n",
            "  fig.canvas.print_figure(bytes_io, **kw)\n",
            "/usr/local/lib/python3.10/dist-packages/IPython/core/pylabtools.py:151: UserWarning: Glyph 54744 (\\N{HANGUL SYLLABLE HEOM}) missing from current font.\n",
            "  fig.canvas.print_figure(bytes_io, **kw)\n",
            "/usr/local/lib/python3.10/dist-packages/IPython/core/pylabtools.py:151: UserWarning: Glyph 51216 (\\N{HANGUL SYLLABLE JEOM}) missing from current font.\n",
            "  fig.canvas.print_figure(bytes_io, **kw)\n",
            "/usr/local/lib/python3.10/dist-packages/IPython/core/pylabtools.py:151: UserWarning: Glyph 49688 (\\N{HANGUL SYLLABLE SU}) missing from current font.\n",
            "  fig.canvas.print_figure(bytes_io, **kw)\n",
            "WARNING:matplotlib.font_manager:findfont: Font family 'Malgun Gothic' not found.\n",
            "/usr/local/lib/python3.10/dist-packages/IPython/core/pylabtools.py:151: UserWarning: Glyph 44053 (\\N{HANGUL SYLLABLE GANG}) missing from current font.\n",
            "  fig.canvas.print_figure(bytes_io, **kw)\n",
            "/usr/local/lib/python3.10/dist-packages/IPython/core/pylabtools.py:151: UserWarning: Glyph 44048 (\\N{HANGUL SYLLABLE GAM}) missing from current font.\n",
            "  fig.canvas.print_figure(bytes_io, **kw)\n",
            "/usr/local/lib/python3.10/dist-packages/IPython/core/pylabtools.py:151: UserWarning: Glyph 52268 (\\N{HANGUL SYLLABLE CAN}) missing from current font.\n",
            "  fig.canvas.print_figure(bytes_io, **kw)\n",
            "WARNING:matplotlib.font_manager:findfont: Font family 'Malgun Gothic' not found.\n",
            "/usr/local/lib/python3.10/dist-packages/IPython/core/pylabtools.py:151: UserWarning: Glyph 44608 (\\N{HANGUL SYLLABLE GIM}) missing from current font.\n",
            "  fig.canvas.print_figure(bytes_io, **kw)\n",
            "/usr/local/lib/python3.10/dist-packages/IPython/core/pylabtools.py:151: UserWarning: Glyph 50976 (\\N{HANGUL SYLLABLE YU}) missing from current font.\n",
            "  fig.canvas.print_figure(bytes_io, **kw)\n",
            "/usr/local/lib/python3.10/dist-packages/IPython/core/pylabtools.py:151: UserWarning: Glyph 49888 (\\N{HANGUL SYLLABLE SIN}) missing from current font.\n",
            "  fig.canvas.print_figure(bytes_io, **kw)\n",
            "WARNING:matplotlib.font_manager:findfont: Font family 'Malgun Gothic' not found.\n",
            "/usr/local/lib/python3.10/dist-packages/IPython/core/pylabtools.py:151: UserWarning: Glyph 51060 (\\N{HANGUL SYLLABLE I}) missing from current font.\n",
            "  fig.canvas.print_figure(bytes_io, **kw)\n",
            "/usr/local/lib/python3.10/dist-packages/IPython/core/pylabtools.py:151: UserWarning: Glyph 49692 (\\N{HANGUL SYLLABLE SUN}) missing from current font.\n",
            "  fig.canvas.print_figure(bytes_io, **kw)\n",
            "WARNING:matplotlib.font_manager:findfont: Font family 'Malgun Gothic' not found.\n",
            "/usr/local/lib/python3.10/dist-packages/IPython/core/pylabtools.py:151: UserWarning: Glyph 50504 (\\N{HANGUL SYLLABLE AN}) missing from current font.\n",
            "  fig.canvas.print_figure(bytes_io, **kw)\n",
            "/usr/local/lib/python3.10/dist-packages/IPython/core/pylabtools.py:151: UserWarning: Glyph 51061 (\\N{HANGUL SYLLABLE IG}) missing from current font.\n",
            "  fig.canvas.print_figure(bytes_io, **kw)\n",
            "/usr/local/lib/python3.10/dist-packages/IPython/core/pylabtools.py:151: UserWarning: Glyph 53468 (\\N{HANGUL SYLLABLE TAE}) missing from current font.\n",
            "  fig.canvas.print_figure(bytes_io, **kw)\n",
            "WARNING:matplotlib.font_manager:findfont: Font family 'Malgun Gothic' not found.\n",
            "/usr/local/lib/python3.10/dist-packages/IPython/core/pylabtools.py:151: UserWarning: Glyph 50980 (\\N{HANGUL SYLLABLE YUN}) missing from current font.\n",
            "  fig.canvas.print_figure(bytes_io, **kw)\n",
            "/usr/local/lib/python3.10/dist-packages/IPython/core/pylabtools.py:151: UserWarning: Glyph 46041 (\\N{HANGUL SYLLABLE DONG}) missing from current font.\n",
            "  fig.canvas.print_figure(bytes_io, **kw)\n",
            "/usr/local/lib/python3.10/dist-packages/IPython/core/pylabtools.py:151: UserWarning: Glyph 51452 (\\N{HANGUL SYLLABLE JU}) missing from current font.\n",
            "  fig.canvas.print_figure(bytes_io, **kw)\n",
            "WARNING:matplotlib.font_manager:findfont: Font family 'Malgun Gothic' not found.\n",
            "/usr/local/lib/python3.10/dist-packages/IPython/core/pylabtools.py:151: UserWarning: Glyph 54861 (\\N{HANGUL SYLLABLE HONG}) missing from current font.\n",
            "  fig.canvas.print_figure(bytes_io, **kw)\n",
            "/usr/local/lib/python3.10/dist-packages/IPython/core/pylabtools.py:151: UserWarning: Glyph 44600 (\\N{HANGUL SYLLABLE GIL}) missing from current font.\n",
            "  fig.canvas.print_figure(bytes_io, **kw)\n",
            "WARNING:matplotlib.font_manager:findfont: Font family 'Malgun Gothic' not found.\n",
            "WARNING:matplotlib.font_manager:findfont: Font family 'Malgun Gothic' not found.\n",
            "WARNING:matplotlib.font_manager:findfont: Font family 'Malgun Gothic' not found.\n",
            "WARNING:matplotlib.font_manager:findfont: Font family 'Malgun Gothic' not found.\n",
            "WARNING:matplotlib.font_manager:findfont: Font family 'Malgun Gothic' not found.\n",
            "WARNING:matplotlib.font_manager:findfont: Font family 'Malgun Gothic' not found.\n",
            "WARNING:matplotlib.font_manager:findfont: Font family 'Malgun Gothic' not found.\n",
            "WARNING:matplotlib.font_manager:findfont: Font family 'Malgun Gothic' not found.\n",
            "WARNING:matplotlib.font_manager:findfont: Font family 'Malgun Gothic' not found.\n",
            "WARNING:matplotlib.font_manager:findfont: Font family 'Malgun Gothic' not found.\n",
            "WARNING:matplotlib.font_manager:findfont: Font family 'Malgun Gothic' not found.\n",
            "WARNING:matplotlib.font_manager:findfont: Font family 'Malgun Gothic' not found.\n",
            "WARNING:matplotlib.font_manager:findfont: Font family 'Malgun Gothic' not found.\n",
            "WARNING:matplotlib.font_manager:findfont: Font family 'Malgun Gothic' not found.\n",
            "WARNING:matplotlib.font_manager:findfont: Font family 'Malgun Gothic' not found.\n"
          ]
        },
        {
          "output_type": "display_data",
          "data": {
            "text/plain": [
              "<Figure size 640x480 with 1 Axes>"
            ],
            "image/png": "[encoded data removed]"
          },
          "metadata": {}
        }
      ]
    },
    {
      "cell_type": "code",
      "source": [
        "filename = 'seriesGraph01.png'\n",
        "plt.savefig(filename, dpi=400, bbox_inches='tight')\n",
        "print(filename + '파일이 저장되었습니다')\n",
        "plt.show()"
      ],
      "metadata": {
        "colab": {
          "base_uri": "https://localhost:8080/",
          "height": 54
        },
        "id": "GKklGtFcWPJf",
        "outputId": "1afbc183-cf9e-46fd-ec53-ce181d774ad8"
      },
      "execution_count": null,
      "outputs": [
        {
          "output_type": "stream",
          "name": "stdout",
          "text": [
            "seriesGraph01.png파일이 저장되었습니다\n"
          ]
        },
        {
          "output_type": "display_data",
          "data": {
            "text/plain": [
              "<Figure size 640x480 with 0 Axes>"
            ]
          },
          "metadata": {}
        }
      ]
    },
    {
      "cell_type": "code",
      "source": [
        "from pandas import Series\n",
        "import matplotlib.pyplot as plt\n",
        "\n",
        "plt.rc('font', family='Malgun Gothic')\n",
        "\n",
        "myindex = ['강감찬', '홍길동', '이순신', '최영']\n",
        "\n",
        "members = Series(data=[20, 60, 80, 40], index=myindex)\n",
        "print(members)"
      ],
      "metadata": {
        "colab": {
          "base_uri": "https://localhost:8080/"
        },
        "id": "m9t9Dsufdq6n",
        "outputId": "5999edac-774d-449a-ba5f-cceca78c6bfb"
      },
      "execution_count": null,
      "outputs": [
        {
          "output_type": "stream",
          "name": "stdout",
          "text": [
            "강감찬    20\n",
            "홍길동    60\n",
            "이순신    80\n",
            "최영     40\n",
            "dtype: int64\n"
          ]
        }
      ]
    },
    {
      "cell_type": "code",
      "source": [
        "print('# values 속성을 이용하여 요소들의 값을 확인할 수 있다')\n",
        "print(members.values)\n",
        "\n",
        "print('# index속성을 이용하여 색인 객체를 구할 수있다')\n",
        "print(members.index)"
      ],
      "metadata": {
        "colab": {
          "base_uri": "https://localhost:8080/"
        },
        "id": "2XrCmP1tgWtg",
        "outputId": "8c8d7ad7-f7a7-4daa-b4e8-766ede45d373"
      },
      "execution_count": null,
      "outputs": [
        {
          "output_type": "stream",
          "name": "stdout",
          "text": [
            "# values 속성을 이용하여 요소들의 값을 확인할 수 있다\n",
            "[20 60 80 40]\n",
            "# index속성을 이용하여 색인 객체를 구할 수있다\n",
            "Index(['강감찬', '홍길동', '이순신', '최영'], dtype='object')\n"
          ]
        }
      ]
    },
    {
      "cell_type": "code",
      "source": [
        "members.plot(kind='bar', rot = 0, ylim=[0, members.max()+ 20], use_index=True, grid=False, color=['r','g','b','y'])\n",
        "\n",
        "plt.xlabel(\"학생 이름\")\n",
        "plt.ylabel('점수')\n",
        "plt.title(\"학생별 시험 점수\")"
      ],
      "metadata": {
        "colab": {
          "base_uri": "https://localhost:8080/",
          "height": 1000
        },
        "id": "E-NNiqCtig53",
        "outputId": "44e9830e-799f-4bfe-baf5-5ac27c1bfb7e"
      },
      "execution_count": null,
      "outputs": [
        {
          "output_type": "execute_result",
          "data": {
            "text/plain": [
              "Text(0.5, 1.0, '학생별 시험 점수')"
            ]
          },
          "metadata": {},
          "execution_count": 99
        },
        {
          "output_type": "stream",
          "name": "stderr",
          "text": [
            "WARNING:matplotlib.font_manager:findfont: Font family 'Malgun Gothic' not found.\n",
            "WARNING:matplotlib.font_manager:findfont: Font family 'Malgun Gothic' not found.\n",
            "WARNING:matplotlib.font_manager:findfont: Font family 'Malgun Gothic' not found.\n",
            "WARNING:matplotlib.font_manager:findfont: Font family 'Malgun Gothic' not found.\n",
            "WARNING:matplotlib.font_manager:findfont: Font family 'Malgun Gothic' not found.\n",
            "WARNING:matplotlib.font_manager:findfont: Font family 'Malgun Gothic' not found.\n",
            "WARNING:matplotlib.font_manager:findfont: Font family 'Malgun Gothic' not found.\n",
            "WARNING:matplotlib.font_manager:findfont: Font family 'Malgun Gothic' not found.\n",
            "/usr/local/lib/python3.10/dist-packages/IPython/core/events.py:89: UserWarning: Glyph 51216 (\\N{HANGUL SYLLABLE JEOM}) missing from current font.\n",
            "  func(*args, **kwargs)\n",
            "/usr/local/lib/python3.10/dist-packages/IPython/core/events.py:89: UserWarning: Glyph 49688 (\\N{HANGUL SYLLABLE SU}) missing from current font.\n",
            "  func(*args, **kwargs)\n",
            "WARNING:matplotlib.font_manager:findfont: Font family 'Malgun Gothic' not found.\n",
            "WARNING:matplotlib.font_manager:findfont: Font family 'Malgun Gothic' not found.\n",
            "/usr/local/lib/python3.10/dist-packages/IPython/core/events.py:89: UserWarning: Glyph 54617 (\\N{HANGUL SYLLABLE HAG}) missing from current font.\n",
            "  func(*args, **kwargs)\n",
            "/usr/local/lib/python3.10/dist-packages/IPython/core/events.py:89: UserWarning: Glyph 49373 (\\N{HANGUL SYLLABLE SAENG}) missing from current font.\n",
            "  func(*args, **kwargs)\n",
            "/usr/local/lib/python3.10/dist-packages/IPython/core/events.py:89: UserWarning: Glyph 48324 (\\N{HANGUL SYLLABLE BYEOL}) missing from current font.\n",
            "  func(*args, **kwargs)\n",
            "/usr/local/lib/python3.10/dist-packages/IPython/core/events.py:89: UserWarning: Glyph 49884 (\\N{HANGUL SYLLABLE SI}) missing from current font.\n",
            "  func(*args, **kwargs)\n",
            "/usr/local/lib/python3.10/dist-packages/IPython/core/events.py:89: UserWarning: Glyph 54744 (\\N{HANGUL SYLLABLE HEOM}) missing from current font.\n",
            "  func(*args, **kwargs)\n",
            "WARNING:matplotlib.font_manager:findfont: Font family 'Malgun Gothic' not found.\n",
            "/usr/local/lib/python3.10/dist-packages/IPython/core/events.py:89: UserWarning: Glyph 44053 (\\N{HANGUL SYLLABLE GANG}) missing from current font.\n",
            "  func(*args, **kwargs)\n",
            "/usr/local/lib/python3.10/dist-packages/IPython/core/events.py:89: UserWarning: Glyph 44048 (\\N{HANGUL SYLLABLE GAM}) missing from current font.\n",
            "  func(*args, **kwargs)\n",
            "/usr/local/lib/python3.10/dist-packages/IPython/core/events.py:89: UserWarning: Glyph 52268 (\\N{HANGUL SYLLABLE CAN}) missing from current font.\n",
            "  func(*args, **kwargs)\n",
            "WARNING:matplotlib.font_manager:findfont: Font family 'Malgun Gothic' not found.\n",
            "/usr/local/lib/python3.10/dist-packages/IPython/core/events.py:89: UserWarning: Glyph 54861 (\\N{HANGUL SYLLABLE HONG}) missing from current font.\n",
            "  func(*args, **kwargs)\n",
            "/usr/local/lib/python3.10/dist-packages/IPython/core/events.py:89: UserWarning: Glyph 44600 (\\N{HANGUL SYLLABLE GIL}) missing from current font.\n",
            "  func(*args, **kwargs)\n",
            "/usr/local/lib/python3.10/dist-packages/IPython/core/events.py:89: UserWarning: Glyph 46041 (\\N{HANGUL SYLLABLE DONG}) missing from current font.\n",
            "  func(*args, **kwargs)\n",
            "WARNING:matplotlib.font_manager:findfont: Font family 'Malgun Gothic' not found.\n",
            "/usr/local/lib/python3.10/dist-packages/IPython/core/events.py:89: UserWarning: Glyph 51060 (\\N{HANGUL SYLLABLE I}) missing from current font.\n",
            "  func(*args, **kwargs)\n",
            "/usr/local/lib/python3.10/dist-packages/IPython/core/events.py:89: UserWarning: Glyph 49692 (\\N{HANGUL SYLLABLE SUN}) missing from current font.\n",
            "  func(*args, **kwargs)\n",
            "/usr/local/lib/python3.10/dist-packages/IPython/core/events.py:89: UserWarning: Glyph 49888 (\\N{HANGUL SYLLABLE SIN}) missing from current font.\n",
            "  func(*args, **kwargs)\n",
            "WARNING:matplotlib.font_manager:findfont: Font family 'Malgun Gothic' not found.\n",
            "/usr/local/lib/python3.10/dist-packages/IPython/core/events.py:89: UserWarning: Glyph 52572 (\\N{HANGUL SYLLABLE COE}) missing from current font.\n",
            "  func(*args, **kwargs)\n",
            "/usr/local/lib/python3.10/dist-packages/IPython/core/events.py:89: UserWarning: Glyph 50689 (\\N{HANGUL SYLLABLE YEONG}) missing from current font.\n",
            "  func(*args, **kwargs)\n",
            "WARNING:matplotlib.font_manager:findfont: Font family 'Malgun Gothic' not found.\n",
            "WARNING:matplotlib.font_manager:findfont: Font family 'Malgun Gothic' not found.\n",
            "WARNING:matplotlib.font_manager:findfont: Font family 'Malgun Gothic' not found.\n",
            "WARNING:matplotlib.font_manager:findfont: Font family 'Malgun Gothic' not found.\n",
            "WARNING:matplotlib.font_manager:findfont: Font family 'Malgun Gothic' not found.\n",
            "/usr/local/lib/python3.10/dist-packages/IPython/core/events.py:89: UserWarning: Glyph 47492 (\\N{HANGUL SYLLABLE REUM}) missing from current font.\n",
            "  func(*args, **kwargs)\n",
            "WARNING:matplotlib.font_manager:findfont: Font family 'Malgun Gothic' not found.\n",
            "WARNING:matplotlib.font_manager:findfont: Font family 'Malgun Gothic' not found.\n",
            "WARNING:matplotlib.font_manager:findfont: Font family 'Malgun Gothic' not found.\n",
            "WARNING:matplotlib.font_manager:findfont: Font family 'Malgun Gothic' not found.\n",
            "WARNING:matplotlib.font_manager:findfont: Font family 'Malgun Gothic' not found.\n",
            "WARNING:matplotlib.font_manager:findfont: Font family 'Malgun Gothic' not found.\n",
            "WARNING:matplotlib.font_manager:findfont: Font family 'Malgun Gothic' not found.\n",
            "WARNING:matplotlib.font_manager:findfont: Font family 'Malgun Gothic' not found.\n",
            "WARNING:matplotlib.font_manager:findfont: Font family 'Malgun Gothic' not found.\n",
            "WARNING:matplotlib.font_manager:findfont: Font family 'Malgun Gothic' not found.\n",
            "WARNING:matplotlib.font_manager:findfont: Font family 'Malgun Gothic' not found.\n",
            "WARNING:matplotlib.font_manager:findfont: Font family 'Malgun Gothic' not found.\n",
            "WARNING:matplotlib.font_manager:findfont: Font family 'Malgun Gothic' not found.\n",
            "WARNING:matplotlib.font_manager:findfont: Font family 'Malgun Gothic' not found.\n",
            "WARNING:matplotlib.font_manager:findfont: Font family 'Malgun Gothic' not found.\n",
            "WARNING:matplotlib.font_manager:findfont: Font family 'Malgun Gothic' not found.\n",
            "WARNING:matplotlib.font_manager:findfont: Font family 'Malgun Gothic' not found.\n",
            "/usr/local/lib/python3.10/dist-packages/IPython/core/pylabtools.py:151: UserWarning: Glyph 51216 (\\N{HANGUL SYLLABLE JEOM}) missing from current font.\n",
            "  fig.canvas.print_figure(bytes_io, **kw)\n",
            "/usr/local/lib/python3.10/dist-packages/IPython/core/pylabtools.py:151: UserWarning: Glyph 49688 (\\N{HANGUL SYLLABLE SU}) missing from current font.\n",
            "  fig.canvas.print_figure(bytes_io, **kw)\n",
            "WARNING:matplotlib.font_manager:findfont: Font family 'Malgun Gothic' not found.\n",
            "WARNING:matplotlib.font_manager:findfont: Font family 'Malgun Gothic' not found.\n",
            "/usr/local/lib/python3.10/dist-packages/IPython/core/pylabtools.py:151: UserWarning: Glyph 54617 (\\N{HANGUL SYLLABLE HAG}) missing from current font.\n",
            "  fig.canvas.print_figure(bytes_io, **kw)\n",
            "/usr/local/lib/python3.10/dist-packages/IPython/core/pylabtools.py:151: UserWarning: Glyph 49373 (\\N{HANGUL SYLLABLE SAENG}) missing from current font.\n",
            "  fig.canvas.print_figure(bytes_io, **kw)\n",
            "/usr/local/lib/python3.10/dist-packages/IPython/core/pylabtools.py:151: UserWarning: Glyph 48324 (\\N{HANGUL SYLLABLE BYEOL}) missing from current font.\n",
            "  fig.canvas.print_figure(bytes_io, **kw)\n",
            "/usr/local/lib/python3.10/dist-packages/IPython/core/pylabtools.py:151: UserWarning: Glyph 49884 (\\N{HANGUL SYLLABLE SI}) missing from current font.\n",
            "  fig.canvas.print_figure(bytes_io, **kw)\n",
            "/usr/local/lib/python3.10/dist-packages/IPython/core/pylabtools.py:151: UserWarning: Glyph 54744 (\\N{HANGUL SYLLABLE HEOM}) missing from current font.\n",
            "  fig.canvas.print_figure(bytes_io, **kw)\n",
            "WARNING:matplotlib.font_manager:findfont: Font family 'Malgun Gothic' not found.\n",
            "/usr/local/lib/python3.10/dist-packages/IPython/core/pylabtools.py:151: UserWarning: Glyph 44053 (\\N{HANGUL SYLLABLE GANG}) missing from current font.\n",
            "  fig.canvas.print_figure(bytes_io, **kw)\n",
            "/usr/local/lib/python3.10/dist-packages/IPython/core/pylabtools.py:151: UserWarning: Glyph 44048 (\\N{HANGUL SYLLABLE GAM}) missing from current font.\n",
            "  fig.canvas.print_figure(bytes_io, **kw)\n",
            "/usr/local/lib/python3.10/dist-packages/IPython/core/pylabtools.py:151: UserWarning: Glyph 52268 (\\N{HANGUL SYLLABLE CAN}) missing from current font.\n",
            "  fig.canvas.print_figure(bytes_io, **kw)\n",
            "WARNING:matplotlib.font_manager:findfont: Font family 'Malgun Gothic' not found.\n",
            "/usr/local/lib/python3.10/dist-packages/IPython/core/pylabtools.py:151: UserWarning: Glyph 54861 (\\N{HANGUL SYLLABLE HONG}) missing from current font.\n",
            "  fig.canvas.print_figure(bytes_io, **kw)\n",
            "/usr/local/lib/python3.10/dist-packages/IPython/core/pylabtools.py:151: UserWarning: Glyph 44600 (\\N{HANGUL SYLLABLE GIL}) missing from current font.\n",
            "  fig.canvas.print_figure(bytes_io, **kw)\n",
            "/usr/local/lib/python3.10/dist-packages/IPython/core/pylabtools.py:151: UserWarning: Glyph 46041 (\\N{HANGUL SYLLABLE DONG}) missing from current font.\n",
            "  fig.canvas.print_figure(bytes_io, **kw)\n",
            "WARNING:matplotlib.font_manager:findfont: Font family 'Malgun Gothic' not found.\n",
            "/usr/local/lib/python3.10/dist-packages/IPython/core/pylabtools.py:151: UserWarning: Glyph 51060 (\\N{HANGUL SYLLABLE I}) missing from current font.\n",
            "  fig.canvas.print_figure(bytes_io, **kw)\n",
            "/usr/local/lib/python3.10/dist-packages/IPython/core/pylabtools.py:151: UserWarning: Glyph 49692 (\\N{HANGUL SYLLABLE SUN}) missing from current font.\n",
            "  fig.canvas.print_figure(bytes_io, **kw)\n",
            "/usr/local/lib/python3.10/dist-packages/IPython/core/pylabtools.py:151: UserWarning: Glyph 49888 (\\N{HANGUL SYLLABLE SIN}) missing from current font.\n",
            "  fig.canvas.print_figure(bytes_io, **kw)\n",
            "WARNING:matplotlib.font_manager:findfont: Font family 'Malgun Gothic' not found.\n",
            "/usr/local/lib/python3.10/dist-packages/IPython/core/pylabtools.py:151: UserWarning: Glyph 52572 (\\N{HANGUL SYLLABLE COE}) missing from current font.\n",
            "  fig.canvas.print_figure(bytes_io, **kw)\n",
            "/usr/local/lib/python3.10/dist-packages/IPython/core/pylabtools.py:151: UserWarning: Glyph 50689 (\\N{HANGUL SYLLABLE YEONG}) missing from current font.\n",
            "  fig.canvas.print_figure(bytes_io, **kw)\n",
            "WARNING:matplotlib.font_manager:findfont: Font family 'Malgun Gothic' not found.\n",
            "WARNING:matplotlib.font_manager:findfont: Font family 'Malgun Gothic' not found.\n",
            "WARNING:matplotlib.font_manager:findfont: Font family 'Malgun Gothic' not found.\n",
            "WARNING:matplotlib.font_manager:findfont: Font family 'Malgun Gothic' not found.\n",
            "WARNING:matplotlib.font_manager:findfont: Font family 'Malgun Gothic' not found.\n",
            "/usr/local/lib/python3.10/dist-packages/IPython/core/pylabtools.py:151: UserWarning: Glyph 47492 (\\N{HANGUL SYLLABLE REUM}) missing from current font.\n",
            "  fig.canvas.print_figure(bytes_io, **kw)\n",
            "WARNING:matplotlib.font_manager:findfont: Font family 'Malgun Gothic' not found.\n",
            "WARNING:matplotlib.font_manager:findfont: Font family 'Malgun Gothic' not found.\n",
            "WARNING:matplotlib.font_manager:findfont: Font family 'Malgun Gothic' not found.\n",
            "WARNING:matplotlib.font_manager:findfont: Font family 'Malgun Gothic' not found.\n",
            "WARNING:matplotlib.font_manager:findfont: Font family 'Malgun Gothic' not found.\n",
            "WARNING:matplotlib.font_manager:findfont: Font family 'Malgun Gothic' not found.\n",
            "WARNING:matplotlib.font_manager:findfont: Font family 'Malgun Gothic' not found.\n",
            "WARNING:matplotlib.font_manager:findfont: Font family 'Malgun Gothic' not found.\n",
            "WARNING:matplotlib.font_manager:findfont: Font family 'Malgun Gothic' not found.\n"
          ]
        },
        {
          "output_type": "display_data",
          "data": {
            "text/plain": [
              "<Figure size 640x480 with 1 Axes>"
            ],
            "image/png": "[encoded data removed]"
          },
          "metadata": {}
        }
      ]
    },
    {
      "cell_type": "code",
      "source": [
        "ratio = 100*members / members.sum()\n",
        "print(ratio)\n",
        "print('-'*40)"
      ],
      "metadata": {
        "id": "gxWuYfP7jM15",
        "colab": {
          "base_uri": "https://localhost:8080/"
        },
        "outputId": "93e63ade-aae9-407e-b8d1-4cc41586ad47"
      },
      "execution_count": null,
      "outputs": [
        {
          "output_type": "stream",
          "name": "stdout",
          "text": [
            "강감찬    10.0\n",
            "홍길동    30.0\n",
            "이순신    40.0\n",
            "최영     20.0\n",
            "dtype: float64\n",
            "----------------------------------------\n"
          ]
        }
      ]
    },
    {
      "cell_type": "code",
      "source": [
        "for idx in range(members.size):\n",
        "  value = str(members[idx])+'건'\n",
        "  ratioval = '%.1f%%'%(ratio[idx])\n",
        "  plt.text(x=idx, y=members[idx]+1, s=value, horizontalalignment='center')\n",
        "  plt.text(x=idx, y=members[idx]/2, s=ratioval, horizontalalignment='center')"
      ],
      "metadata": {
        "colab": {
          "base_uri": "https://localhost:8080/",
          "height": 1000
        },
        "id": "kqe4S520BA3q",
        "outputId": "417fe501-1bdc-4e57-cdfe-f551c326fd4f"
      },
      "execution_count": null,
      "outputs": [
        {
          "output_type": "stream",
          "name": "stderr",
          "text": [
            "WARNING:matplotlib.font_manager:findfont: Font family 'Malgun Gothic' not found.\n",
            "WARNING:matplotlib.font_manager:findfont: Font family 'Malgun Gothic' not found.\n",
            "WARNING:matplotlib.font_manager:findfont: Font family 'Malgun Gothic' not found.\n",
            "WARNING:matplotlib.font_manager:findfont: Font family 'Malgun Gothic' not found.\n",
            "WARNING:matplotlib.font_manager:findfont: Font family 'Malgun Gothic' not found.\n",
            "WARNING:matplotlib.font_manager:findfont: Font family 'Malgun Gothic' not found.\n",
            "WARNING:matplotlib.font_manager:findfont: Font family 'Malgun Gothic' not found.\n",
            "WARNING:matplotlib.font_manager:findfont: Font family 'Malgun Gothic' not found.\n",
            "WARNING:matplotlib.font_manager:findfont: Font family 'Malgun Gothic' not found.\n",
            "WARNING:matplotlib.font_manager:findfont: Font family 'Malgun Gothic' not found.\n",
            "WARNING:matplotlib.font_manager:findfont: Font family 'Malgun Gothic' not found.\n",
            "WARNING:matplotlib.font_manager:findfont: Font family 'Malgun Gothic' not found.\n",
            "WARNING:matplotlib.font_manager:findfont: Font family 'Malgun Gothic' not found.\n",
            "WARNING:matplotlib.font_manager:findfont: Font family 'Malgun Gothic' not found.\n",
            "WARNING:matplotlib.font_manager:findfont: Font family 'Malgun Gothic' not found.\n",
            "WARNING:matplotlib.font_manager:findfont: Font family 'Malgun Gothic' not found.\n",
            "WARNING:matplotlib.font_manager:findfont: Font family 'Malgun Gothic' not found.\n",
            "WARNING:matplotlib.font_manager:findfont: Font family 'Malgun Gothic' not found.\n",
            "WARNING:matplotlib.font_manager:findfont: Font family 'Malgun Gothic' not found.\n",
            "WARNING:matplotlib.font_manager:findfont: Font family 'Malgun Gothic' not found.\n",
            "/usr/local/lib/python3.10/dist-packages/IPython/core/events.py:89: UserWarning: Glyph 44148 (\\N{HANGUL SYLLABLE GEON}) missing from current font.\n",
            "  func(*args, **kwargs)\n",
            "WARNING:matplotlib.font_manager:findfont: Font family 'Malgun Gothic' not found.\n",
            "WARNING:matplotlib.font_manager:findfont: Font family 'Malgun Gothic' not found.\n",
            "WARNING:matplotlib.font_manager:findfont: Font family 'Malgun Gothic' not found.\n",
            "WARNING:matplotlib.font_manager:findfont: Font family 'Malgun Gothic' not found.\n",
            "WARNING:matplotlib.font_manager:findfont: Font family 'Malgun Gothic' not found.\n",
            "WARNING:matplotlib.font_manager:findfont: Font family 'Malgun Gothic' not found.\n",
            "WARNING:matplotlib.font_manager:findfont: Font family 'Malgun Gothic' not found.\n",
            "WARNING:matplotlib.font_manager:findfont: Font family 'Malgun Gothic' not found.\n",
            "WARNING:matplotlib.font_manager:findfont: Font family 'Malgun Gothic' not found.\n",
            "WARNING:matplotlib.font_manager:findfont: Font family 'Malgun Gothic' not found.\n",
            "WARNING:matplotlib.font_manager:findfont: Font family 'Malgun Gothic' not found.\n",
            "WARNING:matplotlib.font_manager:findfont: Font family 'Malgun Gothic' not found.\n",
            "WARNING:matplotlib.font_manager:findfont: Font family 'Malgun Gothic' not found.\n",
            "WARNING:matplotlib.font_manager:findfont: Font family 'Malgun Gothic' not found.\n",
            "WARNING:matplotlib.font_manager:findfont: Font family 'Malgun Gothic' not found.\n",
            "WARNING:matplotlib.font_manager:findfont: Font family 'Malgun Gothic' not found.\n",
            "WARNING:matplotlib.font_manager:findfont: Font family 'Malgun Gothic' not found.\n",
            "WARNING:matplotlib.font_manager:findfont: Font family 'Malgun Gothic' not found.\n",
            "WARNING:matplotlib.font_manager:findfont: Font family 'Malgun Gothic' not found.\n",
            "WARNING:matplotlib.font_manager:findfont: Font family 'Malgun Gothic' not found.\n",
            "WARNING:matplotlib.font_manager:findfont: Font family 'Malgun Gothic' not found.\n",
            "WARNING:matplotlib.font_manager:findfont: Font family 'Malgun Gothic' not found.\n",
            "WARNING:matplotlib.font_manager:findfont: Font family 'Malgun Gothic' not found.\n",
            "WARNING:matplotlib.font_manager:findfont: Font family 'Malgun Gothic' not found.\n",
            "WARNING:matplotlib.font_manager:findfont: Font family 'Malgun Gothic' not found.\n",
            "WARNING:matplotlib.font_manager:findfont: Font family 'Malgun Gothic' not found.\n",
            "WARNING:matplotlib.font_manager:findfont: Font family 'Malgun Gothic' not found.\n",
            "WARNING:matplotlib.font_manager:findfont: Font family 'Malgun Gothic' not found.\n",
            "WARNING:matplotlib.font_manager:findfont: Font family 'Malgun Gothic' not found.\n",
            "WARNING:matplotlib.font_manager:findfont: Font family 'Malgun Gothic' not found.\n",
            "WARNING:matplotlib.font_manager:findfont: Font family 'Malgun Gothic' not found.\n",
            "WARNING:matplotlib.font_manager:findfont: Font family 'Malgun Gothic' not found.\n",
            "WARNING:matplotlib.font_manager:findfont: Font family 'Malgun Gothic' not found.\n",
            "WARNING:matplotlib.font_manager:findfont: Font family 'Malgun Gothic' not found.\n",
            "WARNING:matplotlib.font_manager:findfont: Font family 'Malgun Gothic' not found.\n",
            "/usr/local/lib/python3.10/dist-packages/IPython/core/pylabtools.py:151: UserWarning: Glyph 44148 (\\N{HANGUL SYLLABLE GEON}) missing from current font.\n",
            "  fig.canvas.print_figure(bytes_io, **kw)\n",
            "WARNING:matplotlib.font_manager:findfont: Font family 'Malgun Gothic' not found.\n",
            "WARNING:matplotlib.font_manager:findfont: Font family 'Malgun Gothic' not found.\n",
            "WARNING:matplotlib.font_manager:findfont: Font family 'Malgun Gothic' not found.\n",
            "WARNING:matplotlib.font_manager:findfont: Font family 'Malgun Gothic' not found.\n",
            "WARNING:matplotlib.font_manager:findfont: Font family 'Malgun Gothic' not found.\n",
            "WARNING:matplotlib.font_manager:findfont: Font family 'Malgun Gothic' not found.\n",
            "WARNING:matplotlib.font_manager:findfont: Font family 'Malgun Gothic' not found.\n",
            "WARNING:matplotlib.font_manager:findfont: Font family 'Malgun Gothic' not found.\n",
            "WARNING:matplotlib.font_manager:findfont: Font family 'Malgun Gothic' not found.\n",
            "WARNING:matplotlib.font_manager:findfont: Font family 'Malgun Gothic' not found.\n",
            "WARNING:matplotlib.font_manager:findfont: Font family 'Malgun Gothic' not found.\n",
            "WARNING:matplotlib.font_manager:findfont: Font family 'Malgun Gothic' not found.\n",
            "WARNING:matplotlib.font_manager:findfont: Font family 'Malgun Gothic' not found.\n",
            "WARNING:matplotlib.font_manager:findfont: Font family 'Malgun Gothic' not found.\n",
            "WARNING:matplotlib.font_manager:findfont: Font family 'Malgun Gothic' not found.\n"
          ]
        },
        {
          "output_type": "display_data",
          "data": {
            "text/plain": [
              "<Figure size 640x480 with 1 Axes>"
            ],
            "image/png": "[encoded data removed]"
          },
          "metadata": {}
        }
      ]
    },
    {
      "cell_type": "code",
      "source": [
        "meanval = members.mean()\n",
        "print(meanval)"
      ],
      "metadata": {
        "colab": {
          "base_uri": "https://localhost:8080/"
        },
        "id": "QNbreM85DV7r",
        "outputId": "e96743bb-288e-4074-f231-e0abec097c12"
      },
      "execution_count": null,
      "outputs": [
        {
          "output_type": "stream",
          "name": "stdout",
          "text": [
            "50.0\n"
          ]
        }
      ]
    },
    {
      "cell_type": "code",
      "source": [
        "filename = 'graph01'"
      ],
      "metadata": {
        "id": "G7XiaCUnFg9k"
      },
      "execution_count": null,
      "outputs": []
    }
  ],
  "metadata": {
    "colab": {
      "provenance": []
    },
    "kernelspec": {
      "display_name": "Python 3",
      "name": "python3"
    }
  },
  "nbformat": 4,
  "nbformat_minor": 0
}